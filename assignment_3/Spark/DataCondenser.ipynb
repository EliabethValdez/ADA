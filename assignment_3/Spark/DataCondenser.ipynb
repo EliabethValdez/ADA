{
 "cells": [
  {
   "cell_type": "code",
   "execution_count": 1,
   "id": "f8375155",
   "metadata": {},
   "outputs": [],
   "source": [
    "import pandas as pd\n",
    "import os\n",
    "import ast"
   ]
  },
  {
   "cell_type": "code",
   "execution_count": 3,
   "id": "da658bf4",
   "metadata": {},
   "outputs": [
    {
     "ename": "KeyboardInterrupt",
     "evalue": "",
     "output_type": "error",
     "traceback": [
      "\u001b[1;31m---------------------------------------------------------------------------\u001b[0m",
      "\u001b[1;31mKeyboardInterrupt\u001b[0m                         Traceback (most recent call last)",
      "\u001b[1;32mC:\\Users\\REDUXG~1\\AppData\\Local\\Temp/ipykernel_22916/2310585284.py\u001b[0m in \u001b[0;36m<module>\u001b[1;34m\u001b[0m\n\u001b[0;32m      4\u001b[0m     \u001b[1;32mfor\u001b[0m \u001b[0mfile\u001b[0m \u001b[1;32min\u001b[0m \u001b[0mos\u001b[0m\u001b[1;33m.\u001b[0m\u001b[0mlistdir\u001b[0m\u001b[1;33m(\u001b[0m\u001b[0mpath\u001b[0m \u001b[1;33m+\u001b[0m \u001b[0mfilename\u001b[0m\u001b[1;33m)\u001b[0m\u001b[1;33m:\u001b[0m\u001b[1;33m\u001b[0m\u001b[1;33m\u001b[0m\u001b[0m\n\u001b[0;32m      5\u001b[0m         \u001b[1;32mif\u001b[0m \u001b[0mfile\u001b[0m\u001b[1;33m.\u001b[0m\u001b[0mstartswith\u001b[0m\u001b[1;33m(\u001b[0m\u001b[1;34m'part'\u001b[0m\u001b[1;33m)\u001b[0m\u001b[1;33m:\u001b[0m\u001b[1;33m\u001b[0m\u001b[1;33m\u001b[0m\u001b[0m\n\u001b[1;32m----> 6\u001b[1;33m             \u001b[1;32mwith\u001b[0m \u001b[0mopen\u001b[0m\u001b[1;33m(\u001b[0m\u001b[0mpath\u001b[0m \u001b[1;33m+\u001b[0m \u001b[0mfilename\u001b[0m \u001b[1;33m+\u001b[0m \u001b[1;34m'\\\\'\u001b[0m \u001b[1;33m+\u001b[0m \u001b[0mfile\u001b[0m\u001b[1;33m)\u001b[0m \u001b[1;32mas\u001b[0m \u001b[0mf\u001b[0m\u001b[1;33m:\u001b[0m\u001b[1;33m\u001b[0m\u001b[1;33m\u001b[0m\u001b[0m\n\u001b[0m\u001b[0;32m      7\u001b[0m                 \u001b[0mline\u001b[0m \u001b[1;33m=\u001b[0m \u001b[0mf\u001b[0m\u001b[1;33m.\u001b[0m\u001b[0mread\u001b[0m\u001b[1;33m(\u001b[0m\u001b[1;33m)\u001b[0m\u001b[1;33m.\u001b[0m\u001b[0msplitlines\u001b[0m\u001b[1;33m(\u001b[0m\u001b[1;33m)\u001b[0m\u001b[1;33m\u001b[0m\u001b[1;33m\u001b[0m\u001b[0m\n\u001b[0;32m      8\u001b[0m                 \u001b[0mlines\u001b[0m \u001b[1;33m=\u001b[0m \u001b[0mlines\u001b[0m \u001b[1;33m+\u001b[0m \u001b[0mline\u001b[0m\u001b[1;33m\u001b[0m\u001b[1;33m\u001b[0m\u001b[0m\n",
      "\u001b[1;32mC:\\Anaconda3\\lib\\_bootlocale.py\u001b[0m in \u001b[0;36mgetpreferredencoding\u001b[1;34m(do_setlocale)\u001b[0m\n\u001b[0;32m      9\u001b[0m \u001b[1;33m\u001b[0m\u001b[0m\n\u001b[0;32m     10\u001b[0m \u001b[1;32mif\u001b[0m \u001b[0msys\u001b[0m\u001b[1;33m.\u001b[0m\u001b[0mplatform\u001b[0m\u001b[1;33m.\u001b[0m\u001b[0mstartswith\u001b[0m\u001b[1;33m(\u001b[0m\u001b[1;34m\"win\"\u001b[0m\u001b[1;33m)\u001b[0m\u001b[1;33m:\u001b[0m\u001b[1;33m\u001b[0m\u001b[1;33m\u001b[0m\u001b[0m\n\u001b[1;32m---> 11\u001b[1;33m     \u001b[1;32mdef\u001b[0m \u001b[0mgetpreferredencoding\u001b[0m\u001b[1;33m(\u001b[0m\u001b[0mdo_setlocale\u001b[0m\u001b[1;33m=\u001b[0m\u001b[1;32mTrue\u001b[0m\u001b[1;33m)\u001b[0m\u001b[1;33m:\u001b[0m\u001b[1;33m\u001b[0m\u001b[1;33m\u001b[0m\u001b[0m\n\u001b[0m\u001b[0;32m     12\u001b[0m         \u001b[1;32mif\u001b[0m \u001b[0msys\u001b[0m\u001b[1;33m.\u001b[0m\u001b[0mflags\u001b[0m\u001b[1;33m.\u001b[0m\u001b[0mutf8_mode\u001b[0m\u001b[1;33m:\u001b[0m\u001b[1;33m\u001b[0m\u001b[1;33m\u001b[0m\u001b[0m\n\u001b[0;32m     13\u001b[0m             \u001b[1;32mreturn\u001b[0m \u001b[1;34m'UTF-8'\u001b[0m\u001b[1;33m\u001b[0m\u001b[1;33m\u001b[0m\u001b[0m\n",
      "\u001b[1;31mKeyboardInterrupt\u001b[0m: "
     ]
    }
   ],
   "source": [
    "path = \"..\\data\\\\\"\n",
    "lines = []\n",
    "for filename in os.listdir(path):\n",
    "    for file in os.listdir(path + filename):\n",
    "        if file.startswith('part'):\n",
    "            with open(path + filename + '\\\\' + file) as f:\n",
    "                line = f.read().splitlines()\n",
    "                lines = lines + line\n"
   ]
  },
  {
   "cell_type": "code",
   "execution_count": 55,
   "id": "5b2d9da2",
   "metadata": {},
   "outputs": [],
   "source": [
    "lines = list(map(ast.literal_eval, lines))\n",
    "\n"
   ]
  },
  {
   "cell_type": "code",
   "execution_count": 61,
   "id": "a50bf709",
   "metadata": {},
   "outputs": [],
   "source": [
    "datetimes = []\n",
    "usernames = []\n",
    "channels = []\n",
    "messages = []\n",
    "for ele in lines:\n",
    "    datetimes.append(ele['datetime'])\n",
    "    usernames.append(ele['username'])\n",
    "    channels.append(ele['channel'])\n",
    "    messages.append(ele['message'])\n",
    "    "
   ]
  },
  {
   "cell_type": "code",
   "execution_count": 72,
   "id": "8261954c",
   "metadata": {},
   "outputs": [],
   "source": [
    "df = pd.DataFrame({'Datetime':datetimes, 'Usernames':usernames, 'Channels':channels, 'Messages':messages})"
   ]
  },
  {
   "cell_type": "code",
   "execution_count": 76,
   "id": "fbfc8941",
   "metadata": {},
   "outputs": [],
   "source": [
    "df['Channels'] = df['Channels'].str.replace('#','')"
   ]
  },
  {
   "cell_type": "code",
   "execution_count": 88,
   "id": "0220b661",
   "metadata": {},
   "outputs": [
    {
     "data": {
      "text/html": [
       "<div>\n",
       "<style scoped>\n",
       "    .dataframe tbody tr th:only-of-type {\n",
       "        vertical-align: middle;\n",
       "    }\n",
       "\n",
       "    .dataframe tbody tr th {\n",
       "        vertical-align: top;\n",
       "    }\n",
       "\n",
       "    .dataframe thead th {\n",
       "        text-align: right;\n",
       "    }\n",
       "</style>\n",
       "<table border=\"1\" class=\"dataframe\">\n",
       "  <thead>\n",
       "    <tr style=\"text-align: right;\">\n",
       "      <th></th>\n",
       "      <th>Datetime</th>\n",
       "      <th>Usernames</th>\n",
       "      <th>Channels</th>\n",
       "      <th>Messages</th>\n",
       "    </tr>\n",
       "  </thead>\n",
       "  <tbody>\n",
       "    <tr>\n",
       "      <th>0</th>\n",
       "      <td>2022-04-26T14:24:31.592519</td>\n",
       "      <td>forever_flat</td>\n",
       "      <td>thebausffs</td>\n",
       "      <td>Nerdge</td>\n",
       "    </tr>\n",
       "    <tr>\n",
       "      <th>1</th>\n",
       "      <td>2022-04-26T14:24:31.592580</td>\n",
       "      <td>uperplexed</td>\n",
       "      <td>thebausffs</td>\n",
       "      <td>SUSSY</td>\n",
       "    </tr>\n",
       "    <tr>\n",
       "      <th>2</th>\n",
       "      <td>2022-04-26T14:24:31.750518</td>\n",
       "      <td>johnbellotv</td>\n",
       "      <td>thebausffs</td>\n",
       "      <td>REAL VOICE OMEGALUL</td>\n",
       "    </tr>\n",
       "    <tr>\n",
       "      <th>3</th>\n",
       "      <td>2022-04-26T14:24:31.750569</td>\n",
       "      <td>y4rrowia</td>\n",
       "      <td>thebausffs</td>\n",
       "      <td>LULW</td>\n",
       "    </tr>\n",
       "    <tr>\n",
       "      <th>4</th>\n",
       "      <td>2022-04-26T14:24:31.908404</td>\n",
       "      <td>netsubou</td>\n",
       "      <td>thebausffs</td>\n",
       "      <td>WutFace</td>\n",
       "    </tr>\n",
       "    <tr>\n",
       "      <th>...</th>\n",
       "      <td>...</td>\n",
       "      <td>...</td>\n",
       "      <td>...</td>\n",
       "      <td>...</td>\n",
       "    </tr>\n",
       "    <tr>\n",
       "      <th>54060</th>\n",
       "      <td>2022-04-26T19:34:46.898602</td>\n",
       "      <td>quoralline</td>\n",
       "      <td>adeptthebest</td>\n",
       "      <td>OMEGALUL</td>\n",
       "    </tr>\n",
       "    <tr>\n",
       "      <th>54061</th>\n",
       "      <td>2022-04-26T19:34:51.146278</td>\n",
       "      <td>ella_vdl</td>\n",
       "      <td>adeptthebest</td>\n",
       "      <td>!beta</td>\n",
       "    </tr>\n",
       "    <tr>\n",
       "      <th>54062</th>\n",
       "      <td>2022-04-26T19:34:51.146290</td>\n",
       "      <td>kizumbba</td>\n",
       "      <td>adeptthebest</td>\n",
       "      <td>!Beta</td>\n",
       "    </tr>\n",
       "    <tr>\n",
       "      <th>54063</th>\n",
       "      <td>2022-04-26T19:34:52.127192</td>\n",
       "      <td>fossabot</td>\n",
       "      <td>adeptthebest</td>\n",
       "      <td>OW2 Beta begins at 11am PST, watch adeptthebes...</td>\n",
       "    </tr>\n",
       "    <tr>\n",
       "      <th>54064</th>\n",
       "      <td>2022-04-26T19:34:56.332989</td>\n",
       "      <td>siprianpt</td>\n",
       "      <td>adeptthebest</td>\n",
       "      <td>Try holding it like if you are playing zen :)</td>\n",
       "    </tr>\n",
       "  </tbody>\n",
       "</table>\n",
       "<p>54065 rows × 4 columns</p>\n",
       "</div>"
      ],
      "text/plain": [
       "                         Datetime     Usernames      Channels  \\\n",
       "0      2022-04-26T14:24:31.592519  forever_flat    thebausffs   \n",
       "1      2022-04-26T14:24:31.592580    uperplexed    thebausffs   \n",
       "2      2022-04-26T14:24:31.750518   johnbellotv    thebausffs   \n",
       "3      2022-04-26T14:24:31.750569      y4rrowia    thebausffs   \n",
       "4      2022-04-26T14:24:31.908404      netsubou    thebausffs   \n",
       "...                           ...           ...           ...   \n",
       "54060  2022-04-26T19:34:46.898602    quoralline  adeptthebest   \n",
       "54061  2022-04-26T19:34:51.146278      ella_vdl  adeptthebest   \n",
       "54062  2022-04-26T19:34:51.146290      kizumbba  adeptthebest   \n",
       "54063  2022-04-26T19:34:52.127192      fossabot  adeptthebest   \n",
       "54064  2022-04-26T19:34:56.332989     siprianpt  adeptthebest   \n",
       "\n",
       "                                                Messages  \n",
       "0                                                 Nerdge  \n",
       "1                                                  SUSSY  \n",
       "2                                    REAL VOICE OMEGALUL  \n",
       "3                                                   LULW  \n",
       "4                                                WutFace  \n",
       "...                                                  ...  \n",
       "54060                                           OMEGALUL  \n",
       "54061                                              !beta  \n",
       "54062                                              !Beta  \n",
       "54063  OW2 Beta begins at 11am PST, watch adeptthebes...  \n",
       "54064      Try holding it like if you are playing zen :)  \n",
       "\n",
       "[54065 rows x 4 columns]"
      ]
     },
     "execution_count": 88,
     "metadata": {},
     "output_type": "execute_result"
    }
   ],
   "source": [
    "df\n"
   ]
  },
  {
   "cell_type": "code",
   "execution_count": 97,
   "id": "52432769",
   "metadata": {},
   "outputs": [
    {
     "data": {
      "text/html": [
       "<div>\n",
       "<style scoped>\n",
       "    .dataframe tbody tr th:only-of-type {\n",
       "        vertical-align: middle;\n",
       "    }\n",
       "\n",
       "    .dataframe tbody tr th {\n",
       "        vertical-align: top;\n",
       "    }\n",
       "\n",
       "    .dataframe thead th {\n",
       "        text-align: right;\n",
       "    }\n",
       "</style>\n",
       "<table border=\"1\" class=\"dataframe\">\n",
       "  <thead>\n",
       "    <tr style=\"text-align: right;\">\n",
       "      <th></th>\n",
       "      <th>Datetime</th>\n",
       "      <th>Usernames</th>\n",
       "      <th>Channels</th>\n",
       "      <th>Messages</th>\n",
       "    </tr>\n",
       "  </thead>\n",
       "  <tbody>\n",
       "    <tr>\n",
       "      <th>count</th>\n",
       "      <td>54065</td>\n",
       "      <td>54065</td>\n",
       "      <td>54065</td>\n",
       "      <td>54065</td>\n",
       "    </tr>\n",
       "    <tr>\n",
       "      <th>unique</th>\n",
       "      <td>54065</td>\n",
       "      <td>10882</td>\n",
       "      <td>2</td>\n",
       "      <td>30059</td>\n",
       "    </tr>\n",
       "    <tr>\n",
       "      <th>top</th>\n",
       "      <td>2022-04-26T15:42:49.900614</td>\n",
       "      <td>fossabot</td>\n",
       "      <td>thebausffs</td>\n",
       "      <td>OMEGALUL</td>\n",
       "    </tr>\n",
       "    <tr>\n",
       "      <th>freq</th>\n",
       "      <td>1</td>\n",
       "      <td>499</td>\n",
       "      <td>34115</td>\n",
       "      <td>1405</td>\n",
       "    </tr>\n",
       "  </tbody>\n",
       "</table>\n",
       "</div>"
      ],
      "text/plain": [
       "                          Datetime Usernames    Channels  Messages\n",
       "count                        54065     54065       54065     54065\n",
       "unique                       54065     10882           2     30059\n",
       "top     2022-04-26T15:42:49.900614  fossabot  thebausffs  OMEGALUL\n",
       "freq                             1       499       34115      1405"
      ]
     },
     "execution_count": 97,
     "metadata": {},
     "output_type": "execute_result"
    }
   ],
   "source": [
    "df.describe()\n"
   ]
  },
  {
   "cell_type": "code",
   "execution_count": 101,
   "id": "c2e94033",
   "metadata": {},
   "outputs": [],
   "source": [
    "\n",
    "df['Messages'] = df['Messages'].str.encode('utf-8', errors='surrogatepass')\n"
   ]
  },
  {
   "cell_type": "code",
   "execution_count": 104,
   "id": "1c0e7ed8",
   "metadata": {},
   "outputs": [],
   "source": [
    "df.to_csv('FirstSet.csv')\n"
   ]
  },
  {
   "cell_type": "code",
   "execution_count": 105,
   "id": "4ea1a751",
   "metadata": {},
   "outputs": [],
   "source": [
    "dff = pd.read_csv('FirstSet.csv')"
   ]
  },
  {
   "cell_type": "code",
   "execution_count": 110,
   "id": "c222641f",
   "metadata": {},
   "outputs": [
    {
     "data": {
      "text/plain": [
       "41247                         b'i only hesitate on gender'\n",
       "9309                                           b'monkaTOS'\n",
       "41362                                             b'happE'\n",
       "37856                      b'@Thebausffs what time is it?'\n",
       "51917                             b'no one knows probably'\n",
       "2397                                               b'RIOT'\n",
       "10017                                  b'OP CHAMPION WTF?'\n",
       "31727    b'strixvar1a has been permanently banned from ...\n",
       "17551                                            b'Genius'\n",
       "26441                                               b'Yep'\n",
       "44117                                    b'DESPAIR ......'\n",
       "40037                                          b'OMEGALUL'\n",
       "26847                                              b'LULE'\n",
       "14245                                    b'@Psychemm lmao'\n",
       "27063    b'forsenJoy BRUUUUUUUUUUH forsenJoy BRUUUUUUUU...\n",
       "27700                                       b'Corpa Sadge'\n",
       "32525    b'@thebausffs Your team mate said SRY ,WHY? TO...\n",
       "44826                   b'different person but funny LULW'\n",
       "15939                                              b'LULW'\n",
       "16385                          b'@Weaglelol, CLASSIC LULW'\n",
       "47447    b'she was the abuser and johnny wanted them to...\n",
       "18933    b'JUST  Dance JUST  Dance JUST  Dance JUST  Da...\n",
       "28350                 b'just run it down mid bro OMEGALUL'\n",
       "7281                                           b'Kreygasm'\n",
       "21630                                    b'KrugsUp CHILLS'\n",
       "49245                                               b'Pog'\n",
       "50614               b'AMBER TURD \\xed\\xa0\\xbd\\xed\\xb2\\xa9'\n",
       "31068                                            b'54 Pog'\n",
       "40292                                             b'SAMMY'\n",
       "46771                                    b'blah blah blah'\n",
       "48126                                          b'Chatting'\n",
       "31570                                         b'adeptHead'\n",
       "34339                               b'peepoGiggles hehehe'\n",
       "53471                                      b'adeptMwiggle'\n",
       "46508                                          b'xqcPeepo'\n",
       "20389                                             b'FAKER'\n",
       "3858                                            b'WutFace'\n",
       "28802                                              b'RIOT'\n",
       "27629                                         b'ReallyMad'\n",
       "30900                                             b'a bit'\n",
       "46346                                               b'mhm'\n",
       "6656                                  b'monkaS GuitarTime'\n",
       "22854                                             b'Kappa'\n",
       "34303                      b'RoA FeelsStrongMan I miss it'\n",
       "10909                                   b'so bad OMEGALUL'\n",
       "43168    b'rough bausBooty bausBooty drututBlush drutut...\n",
       "38751                                             b'FLUSH'\n",
       "8272                                                b'HUH'\n",
       "30600                                             b'5Head'\n",
       "380                                               b'PPogo'\n",
       "Name: Messages, dtype: object"
      ]
     },
     "execution_count": 110,
     "metadata": {},
     "output_type": "execute_result"
    }
   ],
   "source": [
    "dff"
   ]
  }
 ],
 "metadata": {
  "kernelspec": {
   "display_name": "Python 3 (ipykernel)",
   "language": "python",
   "name": "python3"
  },
  "language_info": {
   "codemirror_mode": {
    "name": "ipython",
    "version": 3
   },
   "file_extension": ".py",
   "mimetype": "text/x-python",
   "name": "python",
   "nbconvert_exporter": "python",
   "pygments_lexer": "ipython3",
   "version": "3.9.7"
  },
  "toc": {
   "base_numbering": 1,
   "nav_menu": {},
   "number_sections": true,
   "sideBar": true,
   "skip_h1_title": false,
   "title_cell": "Table of Contents",
   "title_sidebar": "Contents",
   "toc_cell": false,
   "toc_position": {},
   "toc_section_display": true,
   "toc_window_display": false
  },
  "varInspector": {
   "cols": {
    "lenName": 16,
    "lenType": 16,
    "lenVar": 40
   },
   "kernels_config": {
    "python": {
     "delete_cmd_postfix": "",
     "delete_cmd_prefix": "del ",
     "library": "var_list.py",
     "varRefreshCmd": "print(var_dic_list())"
    },
    "r": {
     "delete_cmd_postfix": ") ",
     "delete_cmd_prefix": "rm(",
     "library": "var_list.r",
     "varRefreshCmd": "cat(var_dic_list()) "
    }
   },
   "types_to_exclude": [
    "module",
    "function",
    "builtin_function_or_method",
    "instance",
    "_Feature"
   ],
   "window_display": false
  }
 },
 "nbformat": 4,
 "nbformat_minor": 5
}
