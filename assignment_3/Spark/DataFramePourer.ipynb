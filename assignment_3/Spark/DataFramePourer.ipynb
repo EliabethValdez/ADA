{
 "cells": [
  {
   "cell_type": "code",
   "execution_count": 56,
   "id": "bbf8e810",
   "metadata": {},
   "outputs": [],
   "source": [
    "import pandas as pd\n",
    "import os\n",
    "import ast\n",
    "import fasttext"
   ]
  },
  {
   "cell_type": "code",
   "execution_count": 57,
   "id": "db3a188d",
   "metadata": {},
   "outputs": [],
   "source": [
    "df = 0"
   ]
  },
  {
   "cell_type": "code",
   "execution_count": 64,
   "id": "fee36b1e",
   "metadata": {},
   "outputs": [],
   "source": [
    "df = pd.DataFrame({'channel':[],'Predicted':[]})"
   ]
  },
  {
   "cell_type": "code",
   "execution_count": 65,
   "id": "7a023dba",
   "metadata": {},
   "outputs": [],
   "source": [
    "path = \"C:\\spark\\Predictions\\\\\"\n",
    "lines = []\n",
    "for file in os.listdir(path):\n",
    "    if not file.startswith('.') and not file.startswith('_'):\n",
    "        with open(path + file) as f:\n",
    "            df_temp = pd.read_csv(f)\n",
    "            df = df.append(df_temp)"
   ]
  },
  {
   "cell_type": "code",
   "execution_count": 66,
   "id": "f86afb39",
   "metadata": {},
   "outputs": [],
   "source": [
    "Remover = lambda x: x[1:]\n",
    "df['channel'] =df['channel'].apply(Remover) "
   ]
  },
  {
   "cell_type": "code",
   "execution_count": 67,
   "id": "573f7bcd",
   "metadata": {},
   "outputs": [
    {
     "data": {
      "text/plain": [
       "0.8527918781725888"
      ]
     },
     "execution_count": 67,
     "metadata": {},
     "output_type": "execute_result"
    }
   ],
   "source": [
    "sum(df['channel'] == df['Predicted'])/df.shape[0]"
   ]
  },
  {
   "cell_type": "code",
   "execution_count": 68,
   "id": "af0ef48b",
   "metadata": {
    "scrolled": false
   },
   "outputs": [
    {
     "data": {
      "text/plain": [
       "(197, 3)"
      ]
     },
     "execution_count": 68,
     "metadata": {},
     "output_type": "execute_result"
    }
   ],
   "source": [
    "df.shape"
   ]
  },
  {
   "cell_type": "code",
   "execution_count": 69,
   "id": "e79734ea",
   "metadata": {
    "scrolled": true
   },
   "outputs": [
    {
     "data": {
      "text/html": [
       "<div>\n",
       "<style scoped>\n",
       "    .dataframe tbody tr th:only-of-type {\n",
       "        vertical-align: middle;\n",
       "    }\n",
       "\n",
       "    .dataframe tbody tr th {\n",
       "        vertical-align: top;\n",
       "    }\n",
       "\n",
       "    .dataframe thead th {\n",
       "        text-align: right;\n",
       "    }\n",
       "</style>\n",
       "<table border=\"1\" class=\"dataframe\">\n",
       "  <thead>\n",
       "    <tr style=\"text-align: right;\">\n",
       "      <th></th>\n",
       "      <th>channel</th>\n",
       "      <th>Predicted</th>\n",
       "      <th>message</th>\n",
       "    </tr>\n",
       "  </thead>\n",
       "  <tbody>\n",
       "    <tr>\n",
       "      <th>1</th>\n",
       "      <td>thebausffs</td>\n",
       "      <td>adeptthebest</td>\n",
       "      <td>Jebaited</td>\n",
       "    </tr>\n",
       "    <tr>\n",
       "      <th>2</th>\n",
       "      <td>thebausffs</td>\n",
       "      <td>adeptthebest</td>\n",
       "      <td>Shirley</td>\n",
       "    </tr>\n",
       "    <tr>\n",
       "      <th>1</th>\n",
       "      <td>thebausffs</td>\n",
       "      <td>adeptthebest</td>\n",
       "      <td>BOOBA</td>\n",
       "    </tr>\n",
       "    <tr>\n",
       "      <th>0</th>\n",
       "      <td>thebausffs</td>\n",
       "      <td>adeptthebest</td>\n",
       "      <td>Bauld TeaTime</td>\n",
       "    </tr>\n",
       "    <tr>\n",
       "      <th>1</th>\n",
       "      <td>adeptthebest</td>\n",
       "      <td>thebausffs</td>\n",
       "      <td>........</td>\n",
       "    </tr>\n",
       "    <tr>\n",
       "      <th>1</th>\n",
       "      <td>thebausffs</td>\n",
       "      <td>adeptthebest</td>\n",
       "      <td>planned and calculated</td>\n",
       "    </tr>\n",
       "    <tr>\n",
       "      <th>0</th>\n",
       "      <td>thebausffs</td>\n",
       "      <td>adeptthebest</td>\n",
       "      <td>OMEGALUL</td>\n",
       "    </tr>\n",
       "    <tr>\n",
       "      <th>1</th>\n",
       "      <td>thebausffs</td>\n",
       "      <td>adeptthebest</td>\n",
       "      <td>Kraken under the belt !</td>\n",
       "    </tr>\n",
       "    <tr>\n",
       "      <th>0</th>\n",
       "      <td>adeptthebest</td>\n",
       "      <td>thebausffs</td>\n",
       "      <td>Wokege</td>\n",
       "    </tr>\n",
       "    <tr>\n",
       "      <th>0</th>\n",
       "      <td>adeptthebest</td>\n",
       "      <td>thebausffs</td>\n",
       "      <td>Clueless</td>\n",
       "    </tr>\n",
       "  </tbody>\n",
       "</table>\n",
       "</div>"
      ],
      "text/plain": [
       "        channel     Predicted                  message\n",
       "1    thebausffs  adeptthebest                 Jebaited\n",
       "2    thebausffs  adeptthebest                  Shirley\n",
       "1    thebausffs  adeptthebest                    BOOBA\n",
       "0    thebausffs  adeptthebest            Bauld TeaTime\n",
       "1  adeptthebest    thebausffs                 ........\n",
       "1    thebausffs  adeptthebest   planned and calculated\n",
       "0    thebausffs  adeptthebest                 OMEGALUL\n",
       "1    thebausffs  adeptthebest  Kraken under the belt !\n",
       "0  adeptthebest    thebausffs                   Wokege\n",
       "0  adeptthebest    thebausffs                 Clueless"
      ]
     },
     "execution_count": 69,
     "metadata": {},
     "output_type": "execute_result"
    }
   ],
   "source": [
    "df[df['channel'] != df['Predicted']].sample(10)"
   ]
  },
  {
   "cell_type": "code",
   "execution_count": null,
   "id": "7fc142cc",
   "metadata": {},
   "outputs": [],
   "source": []
  }
 ],
 "metadata": {
  "kernelspec": {
   "display_name": "Python 3 (ipykernel)",
   "language": "python",
   "name": "python3"
  },
  "language_info": {
   "codemirror_mode": {
    "name": "ipython",
    "version": 3
   },
   "file_extension": ".py",
   "mimetype": "text/x-python",
   "name": "python",
   "nbconvert_exporter": "python",
   "pygments_lexer": "ipython3",
   "version": "3.9.7"
  },
  "toc": {
   "base_numbering": 1,
   "nav_menu": {},
   "number_sections": true,
   "sideBar": true,
   "skip_h1_title": false,
   "title_cell": "Table of Contents",
   "title_sidebar": "Contents",
   "toc_cell": false,
   "toc_position": {},
   "toc_section_display": true,
   "toc_window_display": false
  },
  "varInspector": {
   "cols": {
    "lenName": 16,
    "lenType": 16,
    "lenVar": 40
   },
   "kernels_config": {
    "python": {
     "delete_cmd_postfix": "",
     "delete_cmd_prefix": "del ",
     "library": "var_list.py",
     "varRefreshCmd": "print(var_dic_list())"
    },
    "r": {
     "delete_cmd_postfix": ") ",
     "delete_cmd_prefix": "rm(",
     "library": "var_list.r",
     "varRefreshCmd": "cat(var_dic_list()) "
    }
   },
   "types_to_exclude": [
    "module",
    "function",
    "builtin_function_or_method",
    "instance",
    "_Feature"
   ],
   "window_display": false
  }
 },
 "nbformat": 4,
 "nbformat_minor": 5
}
