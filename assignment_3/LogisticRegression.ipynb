{
  "cells": [
    {
      "cell_type": "code",
      "execution_count": null,
      "id": "eb65ba0f",
      "metadata": {
        "id": "eb65ba0f"
      },
      "outputs": [],
      "source": [
        "from pyspark.mllib.tree import DecisionTree, DecisionTreeModel\n",
        "import pandas as pd\n",
        "import re\n",
        "from pyspark.ml.linalg import Vectors\n",
        "from pyspark.ml.feature import VectorAssembler\n",
        "from pyspark.ml.classification import RandomForestClassifier\n",
        "from pyspark.ml.evaluation import BinaryClassificationEvaluator\n",
        "from nltk.corpus import stopwords\n",
        "from sklearn.model_selection import train_test_split\n",
        "import fasttext"
      ]
    },
    {
      "cell_type": "code",
      "execution_count": null,
      "id": "8a8e9017",
      "metadata": {
        "id": "8a8e9017"
      },
      "outputs": [],
      "source": [
        "emotes_baus =['SpongeWait', 'bausEZ', 'PETTHEBAUS', 'BRAMBLUS', 'bausPushups', 'KrugsUp', 'BausDonut', 'DaBaus', 'Babush', 'PPogo', 'FeelsHentai', 'SadgeJAM', 'Leanin', 'forsenCD', 'flashAbuser', 'Yoking', 'KKled', 'imposterSus', 'PepeLaffing', 'SirO', 'Svin', 'BABUS', 'PEPW', 'robLick', 'ezChamp', 'Diddles', 'BorpaFoundYou', 'Yoker', 'CLEAN', 'PepeUff', 'peepoChicken', 'vibePLS', 'Chatters', 'WEIRD', 'MODS', 'COCKA', 'DodgeAbusers', 'WeirdChamping', 'JoeBiden', 'TeaTime', 'Shilling', 'YEPCock', 'Weebs', 'IMustLean', 'ClubDance', 'BausBoomer', 'YEPJAM', 'PeterChamp', 'DONUT', 'batJAM', 'DESPAIR', 'lizardPls', 'bausL', 'YEBB', 'BOOBA', 'SadChamp', 'RIOT', 'IRELIAING', 'INSANECAT', 'Cummies', 'Duck', 'SCOOBA', 'Corpa', 'MUTE', 'Boomba', 'ABDULpls', 'MLADY', 'NODDERS', 'peepoHey', 'peepoTalk', 'FeelsWeakMan', 'TriBoom', 'PepegaDriving', 'gachiHYPER', 'Jammies', 'Nerdge', 'borpaSpin', 'KKool', 'peepoRasp', 'pepeMeltdown', 'Peeporiot', 'OOOO', 'PogO', 'PauseChamp', 'Tssk', 'furryRun', 'SION', 'gankAbuser', 'Gaspnt', 'modSheck', 'zhonyasAbuser', 'aniBlush', 'pepeP', 'NOOO', 'FLUSH', 'AYAYA', 'Haha', 'lickR', 'lickL', 'PagWoman', 'SionPassive', 'WeirdShamp', 'EatPoo', 'OMEGALOOOOL', 'Susge', 'Pepeg', 'poopoHappy']\n",
        "emotes_adept = ['adeptTEA', 'mariRICH', 'peepoRun', 'gachiBASS', 'PepePls', 'Clap', 'pepeJAM', 'EZ', 'HYPERCLAP', 'PepegaPls', 'PepoDance', 'peepoPooPoo', 'pepeD', 'nymnCorn', 'pepeL', 'GuitarTime', 'gachiHYPER', 'ppOverheat', 'FeelsStrongJAM', 'sumSmash', 'COGGERS', 'forsenPls', 'ppHop', 'FeelsRainMan', 'xqcSlam', 'tenseSmash', 'CarlosPls', 'TranceGirls', 'FeelsLagMan', 'TriDance', 'PepegaAim', 'xqcOut', 'pepeMeltdown', 'TeaTime', 'peepoLeave', 'yikesJAM', 'peepoGiggles', 'peepoClap', 'WAYTOODANK', 'OuttaPocket', 'pepeCD', 'HACKERMANS', 'PepegaCredit', 'PepoG', 'PepeMods', 'DonoWall', 'PERIODT', 'BOOBA', 'Drake', 'modCheck', 'monkaSTEER', 'peepoShy', 'peepoFinger', 'PepeLa', 'Jammies', 'NOPERS', 'Chatting', 'Hmmm', 'Copium', 'Madge', 'Prayge', 'CLEAN', 'COWdance', 'DojaDance', 'Awkward', 'BLUBBERS', 'ppSmoke', 'peepoDJ', 'Susge', 'pugPls', 'peepoRiot', 'POLICE', 'lebronJAM', 'NODDERS', 'dojaJAM', 'MeganSus', 'catJAM', 'DinkDonk', 'GIGACHAD', 'HUHH', 'RIPBOZO', 'LOLOL', 'peepoBlonket', 'AlienPls', 'PepeFlushed', 'peepoTalk', 'peepoStir', 'Crying', 'oopTea', 'NOOO', 'pepeW', 'DIESOFCRINGE', 'Sussy', 'VeryPog', 'ppPoof', 'Bedge', 'ddHuh', 'Wokege', 'TomatoTime', 'catAwkward']\n"
      ]
    },
    {
      "cell_type": "code",
      "execution_count": null,
      "id": "31a29726",
      "metadata": {
        "id": "31a29726"
      },
      "outputs": [],
      "source": [
        "data = pd.read_csv('https://raw.githubusercontent.com/GregCollab/DataBDA/main/FirstSet.csv')"
      ]
    },
    {
      "cell_type": "code",
      "execution_count": null,
      "id": "509c8c51",
      "metadata": {
        "id": "509c8c51",
        "outputId": "57753545-20ff-477e-88e5-a81557d9150d"
      },
      "outputs": [
        {
          "data": {
            "text/html": [
              "<div>\n",
              "<style scoped>\n",
              "    .dataframe tbody tr th:only-of-type {\n",
              "        vertical-align: middle;\n",
              "    }\n",
              "\n",
              "    .dataframe tbody tr th {\n",
              "        vertical-align: top;\n",
              "    }\n",
              "\n",
              "    .dataframe thead th {\n",
              "        text-align: right;\n",
              "    }\n",
              "</style>\n",
              "<table border=\"1\" class=\"dataframe\">\n",
              "  <thead>\n",
              "    <tr style=\"text-align: right;\">\n",
              "      <th></th>\n",
              "      <th>Unnamed: 0</th>\n",
              "      <th>Datetime</th>\n",
              "      <th>Usernames</th>\n",
              "      <th>Channels</th>\n",
              "      <th>Messages</th>\n",
              "    </tr>\n",
              "  </thead>\n",
              "  <tbody>\n",
              "    <tr>\n",
              "      <th>0</th>\n",
              "      <td>0</td>\n",
              "      <td>2022-04-26T14:24:31.592519</td>\n",
              "      <td>forever_flat</td>\n",
              "      <td>thebausffs</td>\n",
              "      <td>b'Nerdge'</td>\n",
              "    </tr>\n",
              "    <tr>\n",
              "      <th>1</th>\n",
              "      <td>1</td>\n",
              "      <td>2022-04-26T14:24:31.592580</td>\n",
              "      <td>uperplexed</td>\n",
              "      <td>thebausffs</td>\n",
              "      <td>b'SUSSY'</td>\n",
              "    </tr>\n",
              "    <tr>\n",
              "      <th>2</th>\n",
              "      <td>2</td>\n",
              "      <td>2022-04-26T14:24:31.750518</td>\n",
              "      <td>johnbellotv</td>\n",
              "      <td>thebausffs</td>\n",
              "      <td>b'REAL VOICE OMEGALUL'</td>\n",
              "    </tr>\n",
              "    <tr>\n",
              "      <th>3</th>\n",
              "      <td>3</td>\n",
              "      <td>2022-04-26T14:24:31.750569</td>\n",
              "      <td>y4rrowia</td>\n",
              "      <td>thebausffs</td>\n",
              "      <td>b'LULW'</td>\n",
              "    </tr>\n",
              "    <tr>\n",
              "      <th>4</th>\n",
              "      <td>4</td>\n",
              "      <td>2022-04-26T14:24:31.908404</td>\n",
              "      <td>netsubou</td>\n",
              "      <td>thebausffs</td>\n",
              "      <td>b'WutFace'</td>\n",
              "    </tr>\n",
              "  </tbody>\n",
              "</table>\n",
              "</div>"
            ],
            "text/plain": [
              "   Unnamed: 0                    Datetime     Usernames    Channels  \\\n",
              "0           0  2022-04-26T14:24:31.592519  forever_flat  thebausffs   \n",
              "1           1  2022-04-26T14:24:31.592580    uperplexed  thebausffs   \n",
              "2           2  2022-04-26T14:24:31.750518   johnbellotv  thebausffs   \n",
              "3           3  2022-04-26T14:24:31.750569      y4rrowia  thebausffs   \n",
              "4           4  2022-04-26T14:24:31.908404      netsubou  thebausffs   \n",
              "\n",
              "                 Messages  \n",
              "0               b'Nerdge'  \n",
              "1                b'SUSSY'  \n",
              "2  b'REAL VOICE OMEGALUL'  \n",
              "3                 b'LULW'  \n",
              "4              b'WutFace'  "
            ]
          },
          "execution_count": 5,
          "metadata": {},
          "output_type": "execute_result"
        }
      ],
      "source": [
        "data.head()"
      ]
    },
    {
      "cell_type": "code",
      "execution_count": null,
      "id": "a84f4416",
      "metadata": {
        "id": "a84f4416"
      },
      "outputs": [],
      "source": [
        ""
      ]
    },
    {
      "cell_type": "code",
      "execution_count": null,
      "id": "0e4067a9",
      "metadata": {
        "id": "0e4067a9"
      },
      "outputs": [],
      "source": [
        "#We start by preprocessing the messages. This should be more refined in the future.\n",
        "messages = data['wo_stop'].str.replace('b\\'','') #Due to encoding, each message has a b' infront of it. We remove in this step.\n",
        "labels = data['Channels'] \n",
        "ripper = lambda x: x[:-1] #Remove the ' at the end of the message as well\n",
        "messages = messages.apply(ripper) \n",
        " #This changes the message <-> channel relation to a word <-> channel relation. This is quite heavy.\n",
        "splitter = lambda x: x.split() #This splits the message into the words\n",
        "messages = messages.apply(splitter)\n",
        "lens = [len(x) for x in messages]\n",
        "Labeling = lens*(labels + \" \").apply(splitter)\n",
        "messages = [word for sentence in messages for word in sentence] #This splits the message into the words\n",
        "Labeling = [name for all in Labeling for name in all]\n",
        "stripper = lambda x: re.sub(r'[^\\w]', '', x) #This removes everything that is not a number or a letter (both upper and lower case)\n",
        "messages = pd.Series(messages).apply(stripper)\n",
        "messages = messages.str.lower() #This puts everything to on the same case"
      ]
    },
    {
      "cell_type": "code",
      "execution_count": null,
      "id": "53687f9d",
      "metadata": {
        "id": "53687f9d"
      },
      "outputs": [],
      "source": [
        ""
      ]
    },
    {
      "cell_type": "code",
      "execution_count": null,
      "id": "c9fafed2",
      "metadata": {
        "id": "c9fafed2",
        "outputId": "8dfe1f09-eae4-4dfa-9862-5fb84053ea54"
      },
      "outputs": [
        {
          "data": {
            "text/html": [
              "<div>\n",
              "<style scoped>\n",
              "    .dataframe tbody tr th:only-of-type {\n",
              "        vertical-align: middle;\n",
              "    }\n",
              "\n",
              "    .dataframe tbody tr th {\n",
              "        vertical-align: top;\n",
              "    }\n",
              "\n",
              "    .dataframe thead th {\n",
              "        text-align: right;\n",
              "    }\n",
              "</style>\n",
              "<table border=\"1\" class=\"dataframe\">\n",
              "  <thead>\n",
              "    <tr style=\"text-align: right;\">\n",
              "      <th></th>\n",
              "      <th>Unnamed: 0</th>\n",
              "      <th>Datetime</th>\n",
              "      <th>Usernames</th>\n",
              "      <th>Channels</th>\n",
              "      <th>Messages</th>\n",
              "      <th>wo_stop</th>\n",
              "    </tr>\n",
              "  </thead>\n",
              "  <tbody>\n",
              "    <tr>\n",
              "      <th>0</th>\n",
              "      <td>0</td>\n",
              "      <td>2022-04-26T14:24:31.592519</td>\n",
              "      <td>forever_flat</td>\n",
              "      <td>thebausffs</td>\n",
              "      <td>b'Nerdge'</td>\n",
              "      <td>b'Nerdge'</td>\n",
              "    </tr>\n",
              "    <tr>\n",
              "      <th>1</th>\n",
              "      <td>1</td>\n",
              "      <td>2022-04-26T14:24:31.592580</td>\n",
              "      <td>uperplexed</td>\n",
              "      <td>thebausffs</td>\n",
              "      <td>b'SUSSY'</td>\n",
              "      <td>b'SUSSY'</td>\n",
              "    </tr>\n",
              "    <tr>\n",
              "      <th>2</th>\n",
              "      <td>2</td>\n",
              "      <td>2022-04-26T14:24:31.750518</td>\n",
              "      <td>johnbellotv</td>\n",
              "      <td>thebausffs</td>\n",
              "      <td>b'REAL VOICE OMEGALUL'</td>\n",
              "      <td>b'REAL VOICE OMEGALUL'</td>\n",
              "    </tr>\n",
              "    <tr>\n",
              "      <th>3</th>\n",
              "      <td>3</td>\n",
              "      <td>2022-04-26T14:24:31.750569</td>\n",
              "      <td>y4rrowia</td>\n",
              "      <td>thebausffs</td>\n",
              "      <td>b'LULW'</td>\n",
              "      <td>b'LULW'</td>\n",
              "    </tr>\n",
              "    <tr>\n",
              "      <th>4</th>\n",
              "      <td>4</td>\n",
              "      <td>2022-04-26T14:24:31.908404</td>\n",
              "      <td>netsubou</td>\n",
              "      <td>thebausffs</td>\n",
              "      <td>b'WutFace'</td>\n",
              "      <td>b'WutFace'</td>\n",
              "    </tr>\n",
              "  </tbody>\n",
              "</table>\n",
              "</div>"
            ],
            "text/plain": [
              "   Unnamed: 0                    Datetime     Usernames    Channels  \\\n",
              "0           0  2022-04-26T14:24:31.592519  forever_flat  thebausffs   \n",
              "1           1  2022-04-26T14:24:31.592580    uperplexed  thebausffs   \n",
              "2           2  2022-04-26T14:24:31.750518   johnbellotv  thebausffs   \n",
              "3           3  2022-04-26T14:24:31.750569      y4rrowia  thebausffs   \n",
              "4           4  2022-04-26T14:24:31.908404      netsubou  thebausffs   \n",
              "\n",
              "                 Messages                 wo_stop  \n",
              "0               b'Nerdge'               b'Nerdge'  \n",
              "1                b'SUSSY'                b'SUSSY'  \n",
              "2  b'REAL VOICE OMEGALUL'  b'REAL VOICE OMEGALUL'  \n",
              "3                 b'LULW'                 b'LULW'  \n",
              "4              b'WutFace'              b'WutFace'  "
            ]
          },
          "execution_count": 30,
          "metadata": {},
          "output_type": "execute_result"
        }
      ],
      "source": [
        "data.head()"
      ]
    },
    {
      "cell_type": "code",
      "execution_count": null,
      "id": "3d7b28bf",
      "metadata": {
        "id": "3d7b28bf"
      },
      "outputs": [],
      "source": [
        "#What we need for the decision tree: The emojis, the estimate from the fasttext and the user\n",
        "def identify_emotes_baus(text):\n",
        "    return len([1 for word in emotes_baus if re.search(word, text)])\n",
        "def identify_emotes_adept(text):\n",
        "    return len([1 for word in emotes_adept if re.search(word, text)])\n",
        "\n",
        "def preproc(msg):\n",
        "    msg = msg.lower()\n",
        "    msg = re.sub(r'[^\\s\\w]', '', msg)\n",
        "    return msg\n",
        "    \n",
        "def Pred_probability(msg):\n",
        "    msg = preproc(msg)\n",
        "    model  = fasttext.load_model('ft.bin')\n",
        "    pred = model.predict(msg.lower())[1]\n",
        "    name = model.predict(msg.lower())[0][0]\n",
        "    if name == '__label__thebausffs':\n",
        "        pred = -pred\n",
        "    else:\n",
        "        pred = pred\n",
        "    return float(pred)"
      ]
    },
    {
      "cell_type": "code",
      "execution_count": null,
      "id": "f1a76830",
      "metadata": {
        "id": "f1a76830",
        "outputId": "a05b185f-efbb-472b-a3cf-624c0d84cf25"
      },
      "outputs": [
        {
          "name": "stdout",
          "output_type": "stream",
          "text": [
            "Done\n",
            "Done\n",
            "Done\n"
          ]
        }
      ],
      "source": [
        "Data = pd.DataFrame({'BausEmote':[], 'AdeptEmote':[], 'Predict':[], 'Username':[], 'Target':[]})\n",
        "data = data.sample(200)\n",
        "Data['BausEmote'] = data['Messages'].apply(identify_emotes_baus)\n",
        "print('Done')\n",
        "Data['AdeptEmote'] = data['Messages'].apply(identify_emotes_adept)\n",
        "print('Done')\n",
        "Data['Predict'] = data['Messages'].apply(Pred_probability)\n",
        "print('Done')\n",
        "Data['Username'] = data['Usernames']\n",
        "Data['Target'] = data['Channels']"
      ]
    },
    {
      "cell_type": "code",
      "execution_count": null,
      "id": "513c812b",
      "metadata": {
        "id": "513c812b",
        "outputId": "604400a1-9cef-4060-9345-cc5ce82ce51a"
      },
      "outputs": [
        {
          "data": {
            "text/plain": [
              "52501    adeptthebest\n",
              "19595      thebausffs\n",
              "11332    adeptthebest\n",
              "31824      thebausffs\n",
              "17050      thebausffs\n",
              "             ...     \n",
              "8058       thebausffs\n",
              "4641       thebausffs\n",
              "35703      thebausffs\n",
              "42430      thebausffs\n",
              "48164    adeptthebest\n",
              "Name: Target, Length: 200, dtype: object"
            ]
          },
          "execution_count": 85,
          "metadata": {},
          "output_type": "execute_result"
        }
      ],
      "source": [
        "Data['Target']"
      ]
    },
    {
      "cell_type": "code",
      "execution_count": null,
      "id": "429d3aae",
      "metadata": {
        "id": "429d3aae"
      },
      "outputs": [],
      "source": [
        "#train_data, test_data = train_test_split(Data, test_size=0.2)\n",
        "Data['Target'] = [int(word == 'adeptthebest') for word in Data['Target']]\n",
        "sparkDF=spark.createDataFrame(Data) \n",
        "train_df,test_df= sparkDF.randomSplit([0.5,0.5])"
      ]
    },
    {
      "cell_type": "code",
      "execution_count": null,
      "id": "b5cf9cfb",
      "metadata": {
        "scrolled": false,
        "id": "b5cf9cfb"
      },
      "outputs": [],
      "source": [
        "assembler = VectorAssembler(inputCols=['BausEmote', 'AdeptEmote','Predict'],outputCol=\"features\")\n",
        "spDF = assembler.transform(sparkDF)\n",
        "train_df,test_df= spDF.randomSplit([0.8,0.2])"
      ]
    },
    {
      "cell_type": "code",
      "execution_count": null,
      "id": "cf6b78a3",
      "metadata": {
        "id": "cf6b78a3",
        "outputId": "afa18b8d-8481-437e-c2ce-fecbad32c2d4"
      },
      "outputs": [
        {
          "data": {
            "text/plain": [
              "Column<'features'>"
            ]
          },
          "execution_count": 149,
          "metadata": {},
          "output_type": "execute_result"
        }
      ],
      "source": [
        "spDF['features']"
      ]
    },
    {
      "cell_type": "code",
      "execution_count": null,
      "id": "936a4f77",
      "metadata": {
        "id": "936a4f77"
      },
      "outputs": [],
      "source": [
        "from pyspark.ml.classification import LogisticRegressionModel"
      ]
    },
    {
      "cell_type": "code",
      "execution_count": null,
      "id": "c9481422",
      "metadata": {
        "id": "c9481422"
      },
      "outputs": [],
      "source": [
        "from pyspark.ml.classification import LogisticRegression\n",
        "\n",
        "lr=LogisticRegression(labelCol='Target2',featuresCol='features')\n",
        "model_lr=lr.fit(train_df)\n",
        "predictions=model_lr.transform(test_df)\n",
        "evaluator=BinaryClassificationEvaluator(labelCol=\"Target2\")\n",
        "accuracy=evaluator.evaluate(predictions)\n"
      ]
    },
    {
      "cell_type": "code",
      "execution_count": null,
      "id": "1e834529",
      "metadata": {
        "id": "1e834529"
      },
      "outputs": [],
      "source": [
        "model_lr.save('RegModel')"
      ]
    },
    {
      "cell_type": "code",
      "execution_count": null,
      "id": "64f14549",
      "metadata": {
        "id": "64f14549"
      },
      "outputs": [],
      "source": [
        "t = LogisticRegressionModel.load('RegModel')"
      ]
    },
    {
      "cell_type": "code",
      "execution_count": null,
      "id": "000afccf",
      "metadata": {
        "id": "000afccf"
      },
      "outputs": [],
      "source": [
        ""
      ]
    },
    {
      "cell_type": "code",
      "execution_count": null,
      "id": "ea0c1825",
      "metadata": {
        "id": "ea0c1825"
      },
      "outputs": [],
      "source": [
        "from pyspark.sql.functions import udf, struct, array, col, lit\n"
      ]
    },
    {
      "cell_type": "code",
      "execution_count": null,
      "id": "9efcc1f1",
      "metadata": {
        "id": "9efcc1f1"
      },
      "outputs": [],
      "source": [
        "def Decoder(val):\n",
        "    if int(val) == 1:\n",
        "        return 'Adeptthebest'\n",
        "    else:\n",
        "        return 'TheBausFFS'\n",
        "dec_udf = udf(lambda z:Decoder(z))"
      ]
    },
    {
      "cell_type": "code",
      "execution_count": null,
      "id": "e1235ea4",
      "metadata": {
        "id": "e1235ea4",
        "outputId": "f52334b1-8f8d-499b-9ec4-704ba3cc0f58"
      },
      "outputs": [
        {
          "ename": "NameError",
          "evalue": "name 'df' is not defined",
          "output_type": "error",
          "traceback": [
            "\u001b[1;31m---------------------------------------------------------------------------\u001b[0m",
            "\u001b[1;31mNameError\u001b[0m                                 Traceback (most recent call last)",
            "\u001b[1;32mC:\\Users\\REDUXG~1\\AppData\\Local\\Temp/ipykernel_14552/1226597565.py\u001b[0m in \u001b[0;36m<module>\u001b[1;34m\u001b[0m\n\u001b[1;32m----> 1\u001b[1;33m \u001b[0mdf\u001b[0m \u001b[1;33m=\u001b[0m \u001b[0mdf\u001b[0m\u001b[1;33m.\u001b[0m\u001b[0mwithColumn\u001b[0m\u001b[1;33m(\u001b[0m\u001b[1;34m'msg'\u001b[0m\u001b[1;33m,\u001b[0m \u001b[0mpreproc_udf\u001b[0m\u001b[1;33m(\u001b[0m\u001b[1;34m'message'\u001b[0m\u001b[1;33m)\u001b[0m\u001b[1;33m)\u001b[0m\u001b[1;33m\u001b[0m\u001b[1;33m\u001b[0m\u001b[0m\n\u001b[0m",
            "\u001b[1;31mNameError\u001b[0m: name 'df' is not defined"
          ]
        }
      ],
      "source": [
        ""
      ]
    },
    {
      "cell_type": "code",
      "execution_count": null,
      "id": "b2e1474d",
      "metadata": {
        "id": "b2e1474d",
        "outputId": "3a6e3dbb-1bf5-49c6-adf3-3bdeeb8ceabf"
      },
      "outputs": [
        {
          "data": {
            "text/plain": [
              "DataFrame[BausEmote: bigint, AdeptEmote: bigint, Predict: double, Username: string, Target: bigint, Target2: bigint, features: vector]"
            ]
          },
          "execution_count": 146,
          "metadata": {},
          "output_type": "execute_result"
        }
      ],
      "source": [
        "test_df"
      ]
    },
    {
      "cell_type": "code",
      "execution_count": null,
      "id": "9401d6ff",
      "metadata": {
        "scrolled": true,
        "id": "9401d6ff",
        "outputId": "bb005bf6-d411-485c-efab-e339fbb7ca38"
      },
      "outputs": [
        {
          "data": {
            "text/plain": [
              "DataFrame[BausEmote: bigint, AdeptEmote: bigint, Predict: double, Username: string, Target: bigint, Target2: bigint, features: vector, rawPrediction: vector, probability: vector, prediction: double]"
            ]
          },
          "execution_count": 150,
          "metadata": {},
          "output_type": "execute_result"
        }
      ],
      "source": [
        "predictions = t.transform(test_df)\n",
        "evaluator=BinaryClassificationEvaluator(labelCol=\"Target2\")\n",
        "predictions"
      ]
    },
    {
      "cell_type": "code",
      "execution_count": null,
      "id": "867cc4b6",
      "metadata": {
        "scrolled": true,
        "id": "867cc4b6",
        "outputId": "bedbed88-c888-45d8-dcc4-c0b93d6e6cbb"
      },
      "outputs": [
        {
          "ename": "TypeError",
          "evalue": "write() argument must be str, not DataFrame",
          "output_type": "error",
          "traceback": [
            "\u001b[1;31m---------------------------------------------------------------------------\u001b[0m",
            "\u001b[1;31mTypeError\u001b[0m                                 Traceback (most recent call last)",
            "\u001b[1;32mC:\\Users\\REDUXG~1\\AppData\\Local\\Temp/ipykernel_14552/3686444431.py\u001b[0m in \u001b[0;36m<module>\u001b[1;34m\u001b[0m\n\u001b[0;32m      1\u001b[0m \u001b[1;32mwith\u001b[0m \u001b[0mopen\u001b[0m\u001b[1;33m(\u001b[0m\u001b[1;34m\"Data.txt\"\u001b[0m\u001b[1;33m,\u001b[0m \u001b[1;34m\"w\"\u001b[0m\u001b[1;33m)\u001b[0m \u001b[1;32mas\u001b[0m \u001b[0moutput\u001b[0m\u001b[1;33m:\u001b[0m\u001b[1;33m\u001b[0m\u001b[1;33m\u001b[0m\u001b[0m\n\u001b[1;32m----> 2\u001b[1;33m     \u001b[0moutput\u001b[0m\u001b[1;33m.\u001b[0m\u001b[0mwrite\u001b[0m\u001b[1;33m(\u001b[0m\u001b[0mData\u001b[0m\u001b[1;33m)\u001b[0m\u001b[1;33m\u001b[0m\u001b[1;33m\u001b[0m\u001b[0m\n\u001b[0m",
            "\u001b[1;31mTypeError\u001b[0m: write() argument must be str, not DataFrame"
          ]
        }
      ],
      "source": [
        "with open(\"Data.txt\", \"w\") as output:\n",
        "    output.write(Data)"
      ]
    },
    {
      "cell_type": "code",
      "execution_count": null,
      "id": "c7d39f1c",
      "metadata": {
        "id": "c7d39f1c",
        "outputId": "d3493fc6-4cb1-42ac-df10-0c4369c1ac79"
      },
      "outputs": [
        {
          "ename": "AssertionError",
          "evalue": "the data should be RDD of LabeledPoint",
          "output_type": "error",
          "traceback": [
            "\u001b[1;31m---------------------------------------------------------------------------\u001b[0m",
            "\u001b[1;31mAssertionError\u001b[0m                            Traceback (most recent call last)",
            "\u001b[1;32mC:\\Users\\REDUXG~1\\AppData\\Local\\Temp/ipykernel_14552/2650675556.py\u001b[0m in \u001b[0;36m<module>\u001b[1;34m\u001b[0m\n\u001b[0;32m      8\u001b[0m \u001b[1;31m# Train a DecisionTree model.\u001b[0m\u001b[1;33m\u001b[0m\u001b[1;33m\u001b[0m\u001b[0m\n\u001b[0;32m      9\u001b[0m \u001b[1;31m#  Empty categoricalFeaturesInfo indicates all features are continuous.\u001b[0m\u001b[1;33m\u001b[0m\u001b[1;33m\u001b[0m\u001b[0m\n\u001b[1;32m---> 10\u001b[1;33m model = DecisionTree.trainClassifier(train_df, numClasses=2, categoricalFeaturesInfo={'BausEmote', 'AdeptEmote', 'Username','Predict'},\n\u001b[0m\u001b[0;32m     11\u001b[0m                                      impurity='gini', maxDepth=5, maxBins=32)\n",
            "\u001b[1;32mC:\\spark\\spark-3.2.1-bin-hadoop2.7\\python\\pyspark\\mllib\\tree.py\u001b[0m in \u001b[0;36mtrainClassifier\u001b[1;34m(cls, data, numClasses, categoricalFeaturesInfo, impurity, maxDepth, maxBins, minInstancesPerNode, minInfoGain)\u001b[0m\n\u001b[0;32m    225\u001b[0m         \u001b[1;33m[\u001b[0m\u001b[1;36m1.0\u001b[0m\u001b[1;33m,\u001b[0m \u001b[1;36m0.0\u001b[0m\u001b[1;33m]\u001b[0m\u001b[1;33m\u001b[0m\u001b[1;33m\u001b[0m\u001b[0m\n\u001b[0;32m    226\u001b[0m         \"\"\"\n\u001b[1;32m--> 227\u001b[1;33m         return cls._train(data, \"classification\", numClasses, categoricalFeaturesInfo,\n\u001b[0m\u001b[0;32m    228\u001b[0m                           impurity, maxDepth, maxBins, minInstancesPerNode, minInfoGain)\n\u001b[0;32m    229\u001b[0m \u001b[1;33m\u001b[0m\u001b[0m\n",
            "\u001b[1;32mC:\\spark\\spark-3.2.1-bin-hadoop2.7\\python\\pyspark\\mllib\\tree.py\u001b[0m in \u001b[0;36m_train\u001b[1;34m(cls, data, type, numClasses, features, impurity, maxDepth, maxBins, minInstancesPerNode, minInfoGain)\u001b[0m\n\u001b[0;32m    146\u001b[0m                minInstancesPerNode=1, minInfoGain=0.0):\n\u001b[0;32m    147\u001b[0m         \u001b[0mfirst\u001b[0m \u001b[1;33m=\u001b[0m \u001b[0mdata\u001b[0m\u001b[1;33m.\u001b[0m\u001b[0mfirst\u001b[0m\u001b[1;33m(\u001b[0m\u001b[1;33m)\u001b[0m\u001b[1;33m\u001b[0m\u001b[1;33m\u001b[0m\u001b[0m\n\u001b[1;32m--> 148\u001b[1;33m         \u001b[1;32massert\u001b[0m \u001b[0misinstance\u001b[0m\u001b[1;33m(\u001b[0m\u001b[0mfirst\u001b[0m\u001b[1;33m,\u001b[0m \u001b[0mLabeledPoint\u001b[0m\u001b[1;33m)\u001b[0m\u001b[1;33m,\u001b[0m \u001b[1;34m\"the data should be RDD of LabeledPoint\"\u001b[0m\u001b[1;33m\u001b[0m\u001b[1;33m\u001b[0m\u001b[0m\n\u001b[0m\u001b[0;32m    149\u001b[0m         model = callMLlibFunc(\"trainDecisionTreeModel\", data, type, numClasses, features,\n\u001b[0;32m    150\u001b[0m                               impurity, maxDepth, maxBins, minInstancesPerNode, minInfoGain)\n",
            "\u001b[1;31mAssertionError\u001b[0m: the data should be RDD of LabeledPoint"
          ]
        }
      ],
      "source": [
        "from pyspark.mllib.tree import DecisionTree, DecisionTreeModel\n",
        "from pyspark.mllib.util import MLUtils\n",
        "\n",
        "# Load and parse the data file into an RDD of LabeledPoint.\n",
        "\n",
        "# Split the data into training and test sets (30% held out for testing)\n",
        "train_df,test_df= sparkDF.randomSplit([0.8,0.2])\n",
        "\n",
        "# Train a DecisionTree model.\n",
        "#  Empty categoricalFeaturesInfo indicates all features are continuous.\n",
        "model = DecisionTree.trainClassifier(train_df, numClasses=2, categoricalFeaturesInfo={'BausEmote', 'AdeptEmote', 'Username','Predict'},\n",
        "                                     impurity='gini', maxDepth=5, maxBins=32)"
      ]
    },
    {
      "cell_type": "code",
      "execution_count": null,
      "id": "721a794e",
      "metadata": {
        "id": "721a794e"
      },
      "outputs": [],
      "source": [
        ""
      ]
    }
  ],
  "metadata": {
    "kernelspec": {
      "display_name": "Python 3 (ipykernel)",
      "language": "python",
      "name": "python3"
    },
    "language_info": {
      "codemirror_mode": {
        "name": "ipython",
        "version": 3
      },
      "file_extension": ".py",
      "mimetype": "text/x-python",
      "name": "python",
      "nbconvert_exporter": "python",
      "pygments_lexer": "ipython3",
      "version": "3.9.7"
    },
    "toc": {
      "base_numbering": 1,
      "nav_menu": {},
      "number_sections": true,
      "sideBar": true,
      "skip_h1_title": false,
      "title_cell": "Table of Contents",
      "title_sidebar": "Contents",
      "toc_cell": false,
      "toc_position": {},
      "toc_section_display": true,
      "toc_window_display": false
    },
    "varInspector": {
      "cols": {
        "lenName": 16,
        "lenType": 16,
        "lenVar": 40
      },
      "kernels_config": {
        "python": {
          "delete_cmd_postfix": "",
          "delete_cmd_prefix": "del ",
          "library": "var_list.py",
          "varRefreshCmd": "print(var_dic_list())"
        },
        "r": {
          "delete_cmd_postfix": ") ",
          "delete_cmd_prefix": "rm(",
          "library": "var_list.r",
          "varRefreshCmd": "cat(var_dic_list()) "
        }
      },
      "types_to_exclude": [
        "module",
        "function",
        "builtin_function_or_method",
        "instance",
        "_Feature"
      ],
      "window_display": false
    },
    "colab": {
      "name": "LogisticRegression.ipynb",
      "provenance": []
    }
  },
  "nbformat": 4,
  "nbformat_minor": 5
}