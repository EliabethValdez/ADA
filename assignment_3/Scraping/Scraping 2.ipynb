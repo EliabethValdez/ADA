{
 "cells": [
  {
   "cell_type": "code",
   "execution_count": 36,
   "metadata": {},
   "outputs": [],
   "source": [
    "from selenium import webdriver\n",
    "from selenium.webdriver.common.keys import Keys\n",
    "from time import sleep\n",
    "from numpy import random\n",
    "import re\n",
    "import pandas as pd\n",
    "import numpy as np"
   ]
  },
  {
   "cell_type": "code",
   "execution_count": 37,
   "metadata": {},
   "outputs": [],
   "source": [
    "wd = webdriver.Chrome(\"C:\\\\Users\\\\Redux Gamer\\\\anaconda3\\\\Selenium_driver\\\\chromedriver_win32\\\\chromedriver.exe\")"
   ]
  },
  {
   "cell_type": "code",
   "execution_count": 38,
   "metadata": {},
   "outputs": [],
   "source": [
    "wd.get('https://www.twitchmetrics.net/c/71092938-xqc/emotes')\n"
   ]
  },
  {
   "cell_type": "code",
   "execution_count": 39,
   "metadata": {},
   "outputs": [],
   "source": [
    "element = wd.find_elements_by_tag_name(\"samp\")\n"
   ]
  },
  {
   "cell_type": "code",
   "execution_count": 40,
   "metadata": {},
   "outputs": [],
   "source": [
    "EmotesBaus = []\n",
    "for ele in element:\n",
    "    EmotesBaus.append(ele.text)\n"
   ]
  },
  {
   "cell_type": "code",
   "execution_count": 41,
   "metadata": {},
   "outputs": [
    {
     "data": {
      "text/plain": [
       "['xqcA',\n",
       " 'xqcAm',\n",
       " 'xqcArm1',\n",
       " 'xqcArm2',\n",
       " 'xqcC',\n",
       " 'xqcCheer',\n",
       " 'xqcClown',\n",
       " 'xqcCo',\n",
       " 'xqcCringe',\n",
       " 'xqcDab',\n",
       " 'xqcDespair',\n",
       " 'xqcDrip',\n",
       " 'xqcDUD',\n",
       " 'xqcE',\n",
       " 'xqcEZ',\n",
       " 'xqcF',\n",
       " 'xqcFace',\n",
       " 'xqcG',\n",
       " 'xqcH',\n",
       " 'xqcHAA',\n",
       " 'xqcHands',\n",
       " 'xqcHead',\n",
       " 'xqcHYPERF',\n",
       " 'xqcI',\n",
       " 'xqcJ',\n",
       " 'xqcJoy',\n",
       " 'xqcJuice',\n",
       " 'xqcK',\n",
       " 'xqcKek',\n",
       " 'xqcL',\n",
       " 'xqcLL',\n",
       " 'xqcLook',\n",
       " 'xqcLove',\n",
       " 'xqcM',\n",
       " 'xqcMood',\n",
       " 'xqcMS',\n",
       " 'xqcN',\n",
       " 'xqcNom',\n",
       " 'xqcOld',\n",
       " 'xqcOmega',\n",
       " 'xqcPeepo',\n",
       " 'xqcPrime',\n",
       " 'xqcRage',\n",
       " 'xqcRich',\n",
       " 'xqcS',\n",
       " 'xqcSad',\n",
       " 'xqcSheesh',\n",
       " 'xqcSkip',\n",
       " 'xqcSkull',\n",
       " 'xqcSlam',\n",
       " 'xqcSleeper',\n",
       " 'xqcSmile',\n",
       " 'xqcSmug',\n",
       " 'xqcStare',\n",
       " 'xqcStory',\n",
       " 'xqcSus',\n",
       " 'xqcSword',\n",
       " 'xqcT',\n",
       " 'xqcTF',\n",
       " 'xqcTL',\n",
       " 'xqcTOS',\n",
       " 'xqcTree',\n",
       " 'xqcWtf',\n",
       " 'xqcWut',\n",
       " 'xqcY']"
      ]
     },
     "execution_count": 41,
     "metadata": {},
     "output_type": "execute_result"
    }
   ],
   "source": [
    "EmotesBaus"
   ]
  },
  {
   "cell_type": "code",
   "execution_count": 42,
   "metadata": {},
   "outputs": [],
   "source": [
    "with open(\"xQcEmotes.txt\", \"w\") as output:\n",
    "    output.write(str(EmotesBaus))"
   ]
  },
  {
   "cell_type": "code",
   "execution_count": 75,
   "metadata": {},
   "outputs": [],
   "source": [
    "wd.get('https://betterttv.com/users/58b56bf03c3bbd3e016b2501')"
   ]
  },
  {
   "cell_type": "code",
   "execution_count": 76,
   "metadata": {},
   "outputs": [],
   "source": [
    "element =wd.find_elements_by_class_name(\"EmoteCards_emoteCardCode__BP2dI\")"
   ]
  },
  {
   "cell_type": "code",
   "execution_count": 77,
   "metadata": {},
   "outputs": [],
   "source": [
    "EmotesAdept = []\n",
    "for ele in element:\n",
    "    EmotesAdept.append(ele.text)"
   ]
  },
  {
   "cell_type": "code",
   "execution_count": 78,
   "metadata": {},
   "outputs": [],
   "source": [
    "with open(\"Adept.txt\", \"w\") as output:\n",
    "    output.write(str(EmotesAdept))"
   ]
  },
  {
   "cell_type": "code",
   "execution_count": null,
   "metadata": {},
   "outputs": [],
   "source": []
  }
 ],
 "metadata": {
  "interpreter": {
   "hash": "80a4c1fced6b0eac29087d893496f8f41b0d7ca210db7fc5f38af9e3312fb631"
  },
  "kernelspec": {
   "display_name": "Python 3.8.5",
   "language": "python",
   "name": "python3"
  },
  "language_info": {
   "codemirror_mode": {
    "name": "ipython",
    "version": 3
   },
   "file_extension": ".py",
   "mimetype": "text/x-python",
   "name": "python",
   "nbconvert_exporter": "python",
   "pygments_lexer": "ipython3",
   "version": "3.8.5"
  },
  "toc": {
   "base_numbering": 1,
   "nav_menu": {},
   "number_sections": true,
   "sideBar": true,
   "skip_h1_title": false,
   "title_cell": "Table of Contents",
   "title_sidebar": "Contents",
   "toc_cell": false,
   "toc_position": {},
   "toc_section_display": true,
   "toc_window_display": false
  },
  "varInspector": {
   "cols": {
    "lenName": 16,
    "lenType": 16,
    "lenVar": 40
   },
   "kernels_config": {
    "python": {
     "delete_cmd_postfix": "",
     "delete_cmd_prefix": "del ",
     "library": "var_list.py",
     "varRefreshCmd": "print(var_dic_list())"
    },
    "r": {
     "delete_cmd_postfix": ") ",
     "delete_cmd_prefix": "rm(",
     "library": "var_list.r",
     "varRefreshCmd": "cat(var_dic_list()) "
    }
   },
   "types_to_exclude": [
    "module",
    "function",
    "builtin_function_or_method",
    "instance",
    "_Feature"
   ],
   "window_display": false
  }
 },
 "nbformat": 4,
 "nbformat_minor": 2
}
