{
 "cells": [
  {
   "cell_type": "code",
   "execution_count": 58,
   "metadata": {},
   "outputs": [],
   "source": [
    "from selenium import webdriver\n",
    "from selenium.webdriver.common.keys import Keys\n",
    "from time import sleep\n",
    "from numpy import random\n",
    "import re\n",
    "import pandas as pd\n",
    "import numpy as np"
   ]
  },
  {
   "cell_type": "code",
   "execution_count": 59,
   "metadata": {},
   "outputs": [],
   "source": [
    "wd = webdriver.Chrome(\"C:\\\\Users\\\\Redux Gamer\\\\anaconda3\\\\Selenium_driver\\\\chromedriver_win32\\\\chromedriver.exe\")"
   ]
  },
  {
   "cell_type": "code",
   "execution_count": 68,
   "metadata": {},
   "outputs": [],
   "source": [
    "wd.get('https://betterttv.com/users/5bc9c3182744601e4974829c')"
   ]
  },
  {
   "cell_type": "code",
   "execution_count": 69,
   "metadata": {},
   "outputs": [],
   "source": [
    "element =wd.find_elements_by_class_name(\"EmoteCards_emoteCardCode__BP2dI\")"
   ]
  },
  {
   "cell_type": "code",
   "execution_count": 72,
   "metadata": {},
   "outputs": [],
   "source": [
    "EmotesBaus = []\n",
    "for ele in element:\n",
    "    EmotesBaus.append(ele.text)\n"
   ]
  },
  {
   "cell_type": "code",
   "execution_count": 73,
   "metadata": {},
   "outputs": [
    {
     "data": {
      "text/plain": [
       "['SpongeWait',\n",
       " 'bausEZ',\n",
       " 'PETTHEBAUS',\n",
       " 'BRAMBLUS',\n",
       " 'bausPushups',\n",
       " 'KrugsUp',\n",
       " 'BausDonut',\n",
       " 'DaBaus',\n",
       " 'Babush',\n",
       " 'PPogo',\n",
       " 'FeelsHentai',\n",
       " 'SadgeJAM',\n",
       " 'Leanin',\n",
       " 'forsenCD',\n",
       " 'flashAbuser',\n",
       " 'Yoking',\n",
       " 'KKled',\n",
       " 'imposterSus',\n",
       " 'PepeLaffing',\n",
       " 'SirO',\n",
       " 'Svin',\n",
       " 'BABUS',\n",
       " 'PEPW',\n",
       " 'robLick',\n",
       " 'ezChamp',\n",
       " 'Diddles',\n",
       " 'BorpaFoundYou',\n",
       " 'Yoker',\n",
       " 'CLEAN',\n",
       " 'PepeUff',\n",
       " 'peepoChicken',\n",
       " 'vibePLS',\n",
       " 'Chatters',\n",
       " 'WEIRD',\n",
       " 'MODS',\n",
       " 'COCKA',\n",
       " 'DodgeAbusers',\n",
       " 'WeirdChamping',\n",
       " 'JoeBiden',\n",
       " 'TeaTime',\n",
       " 'Shilling',\n",
       " 'YEPCock',\n",
       " 'Weebs',\n",
       " 'IMustLean',\n",
       " 'ClubDance',\n",
       " 'BausBoomer',\n",
       " 'YEPJAM',\n",
       " 'PeterChamp',\n",
       " 'DONUT',\n",
       " 'batJAM',\n",
       " 'DESPAIR',\n",
       " 'lizardPls',\n",
       " 'bausL',\n",
       " 'YEBB',\n",
       " 'BOOBA',\n",
       " 'SadChamp',\n",
       " 'RIOT',\n",
       " 'IRELIAING',\n",
       " 'INSANECAT',\n",
       " 'Cummies',\n",
       " 'Duck',\n",
       " 'SCOOBA',\n",
       " 'Corpa',\n",
       " 'MUTE',\n",
       " 'Boomba',\n",
       " 'ABDULpls',\n",
       " 'MLADY',\n",
       " 'NODDERS',\n",
       " 'peepoHey',\n",
       " 'peepoTalk',\n",
       " 'FeelsWeakMan',\n",
       " 'TriBoom',\n",
       " 'PepegaDriving',\n",
       " 'gachiHYPER',\n",
       " 'Jammies',\n",
       " 'Nerdge',\n",
       " 'borpaSpin',\n",
       " 'KKool',\n",
       " 'peepoRasp',\n",
       " 'pepeMeltdown',\n",
       " 'Peeporiot',\n",
       " 'OOOO',\n",
       " 'PogO',\n",
       " 'PauseChamp',\n",
       " 'Tssk',\n",
       " 'furryRun',\n",
       " 'SION',\n",
       " 'gankAbuser',\n",
       " 'Gaspnt',\n",
       " 'modSheck',\n",
       " 'zhonyasAbuser',\n",
       " 'aniBlush',\n",
       " 'pepeP',\n",
       " 'NOOO',\n",
       " 'FLUSH',\n",
       " 'AYAYA',\n",
       " 'Haha',\n",
       " 'lickR',\n",
       " 'lickL',\n",
       " 'PagWoman',\n",
       " 'SionPassive',\n",
       " 'WeirdShamp',\n",
       " 'EatPoo',\n",
       " 'OMEGALOOOOL',\n",
       " 'Susge',\n",
       " 'Pepeg',\n",
       " 'poopoHappy']"
      ]
     },
     "execution_count": 73,
     "metadata": {},
     "output_type": "execute_result"
    }
   ],
   "source": [
    "EmotesBaus"
   ]
  },
  {
   "cell_type": "code",
   "execution_count": 74,
   "metadata": {},
   "outputs": [],
   "source": [
    "with open(\"TheBausFFS.txt\", \"w\") as output:\n",
    "    output.write(str(EmotesBaus))"
   ]
  },
  {
   "cell_type": "code",
   "execution_count": 75,
   "metadata": {},
   "outputs": [],
   "source": [
    "wd.get('https://betterttv.com/users/58b56bf03c3bbd3e016b2501')"
   ]
  },
  {
   "cell_type": "code",
   "execution_count": 76,
   "metadata": {},
   "outputs": [],
   "source": [
    "element =wd.find_elements_by_class_name(\"EmoteCards_emoteCardCode__BP2dI\")"
   ]
  },
  {
   "cell_type": "code",
   "execution_count": 77,
   "metadata": {},
   "outputs": [],
   "source": [
    "EmotesAdept = []\n",
    "for ele in element:\n",
    "    EmotesAdept.append(ele.text)"
   ]
  },
  {
   "cell_type": "code",
   "execution_count": 78,
   "metadata": {},
   "outputs": [],
   "source": [
    "with open(\"Adept.txt\", \"w\") as output:\n",
    "    output.write(str(EmotesAdept))"
   ]
  },
  {
   "cell_type": "code",
   "execution_count": null,
   "metadata": {},
   "outputs": [],
   "source": []
  }
 ],
 "metadata": {
  "kernelspec": {
   "display_name": "Python 3",
   "language": "python",
   "name": "python3"
  },
  "language_info": {
   "codemirror_mode": {
    "name": "ipython",
    "version": 3
   },
   "file_extension": ".py",
   "mimetype": "text/x-python",
   "name": "python",
   "nbconvert_exporter": "python",
   "pygments_lexer": "ipython3",
   "version": "3.8.5"
  },
  "toc": {
   "base_numbering": 1,
   "nav_menu": {},
   "number_sections": true,
   "sideBar": true,
   "skip_h1_title": false,
   "title_cell": "Table of Contents",
   "title_sidebar": "Contents",
   "toc_cell": false,
   "toc_position": {},
   "toc_section_display": true,
   "toc_window_display": false
  },
  "varInspector": {
   "cols": {
    "lenName": 16,
    "lenType": 16,
    "lenVar": 40
   },
   "kernels_config": {
    "python": {
     "delete_cmd_postfix": "",
     "delete_cmd_prefix": "del ",
     "library": "var_list.py",
     "varRefreshCmd": "print(var_dic_list())"
    },
    "r": {
     "delete_cmd_postfix": ") ",
     "delete_cmd_prefix": "rm(",
     "library": "var_list.r",
     "varRefreshCmd": "cat(var_dic_list()) "
    }
   },
   "types_to_exclude": [
    "module",
    "function",
    "builtin_function_or_method",
    "instance",
    "_Feature"
   ],
   "window_display": false
  }
 },
 "nbformat": 4,
 "nbformat_minor": 2
}
