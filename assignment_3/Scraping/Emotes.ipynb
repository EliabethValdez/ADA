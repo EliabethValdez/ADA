{
 "cells": [
  {
   "cell_type": "code",
   "execution_count": 1,
   "metadata": {},
   "outputs": [],
   "source": [
    "import pandas as pd\n",
    "import regex as re\n",
    "import numpy as np\n",
    "import plotly.express as px"
   ]
  },
  {
   "cell_type": "code",
   "execution_count": 2,
   "metadata": {},
   "outputs": [],
   "source": [
    "data = pd.read_csv('https://raw.githubusercontent.com/GregCollab/DataBDA/main/FirstSet.csv')"
   ]
  },
  {
   "cell_type": "code",
   "execution_count": 5,
   "metadata": {},
   "outputs": [],
   "source": [
    "Adept = ['adeptTEA', 'mariRICH', 'peepoRun', 'gachiBASS', 'PepePls', 'Clap', 'pepeJAM', 'EZ', 'HYPERCLAP', 'PepegaPls', 'PepoDance', 'peepoPooPoo', 'pepeD', 'nymnCorn', 'pepeL', 'GuitarTime', 'gachiHYPER', 'ppOverheat', 'FeelsStrongJAM', 'sumSmash', 'COGGERS', 'forsenPls', 'ppHop', 'FeelsRainMan', 'xqcSlam', 'tenseSmash', 'CarlosPls', 'TranceGirls', 'FeelsLagMan', 'TriDance', 'PepegaAim', 'xqcOut', 'pepeMeltdown', 'TeaTime', 'peepoLeave', 'yikesJAM', 'peepoGiggles', 'peepoClap', 'WAYTOODANK', 'OuttaPocket', 'pepeCD', 'HACKERMANS', 'PepegaCredit', 'PepoG', 'PepeMods', 'DonoWall', 'PERIODT', 'BOOBA', 'Drake', 'modCheck', 'monkaSTEER', 'peepoShy', 'peepoFinger', 'PepeLa', 'Jammies', 'NOPERS', 'Chatting', 'Hmmm', 'Copium', 'Madge', 'Prayge', 'CLEAN', 'COWdance', 'DojaDance', 'Awkward', 'BLUBBERS', 'ppSmoke', 'peepoDJ', 'Susge', 'pugPls', 'peepoRiot', 'POLICE', 'lebronJAM', 'NODDERS', 'dojaJAM', 'MeganSus', 'catJAM', 'DinkDonk', 'GIGACHAD', 'HUHH', 'RIPBOZO', 'LOLOL', 'peepoBlonket', 'AlienPls', 'PepeFlushed', 'peepoTalk', 'peepoStir', 'Crying', 'oopTea', 'NOOO', 'pepeW', 'DIESOFCRINGE', 'Sussy', 'VeryPog', 'ppPoof', 'Bedge', 'ddHuh', 'Wokege', 'TomatoTime', 'catAwkward']\n",
    "AdeptSub = ['adeptAY', 'adeptAYE', 'adeptBW', 'adeptC', 'adeptCheer', 'adeptClown', 'adeptCode', 'adeptComs', 'adeptCredit', 'adeptD', 'adeptDespair', 'adeptEvil', 'adeptG', 'adeptGasm', 'adeptGrump', 'adeptHAA', 'adeptHead', 'adeptHey', 'adeptHG', 'adeptHL', 'adeptHL2', 'adeptHP', 'adeptHR', 'adeptHype', 'adeptIes', 'adeptJam', 'adeptJudge', 'adeptL', 'adeptLaugh', 'adeptMcopium', 'adeptMded', 'adeptMflirt', 'adeptMhacker', 'adeptMilk', 'adeptMjail', 'adeptMmad', 'adeptMnotes', 'adeptMP', 'adeptMrich', 'adeptMshy', 'adeptMtea', 'adeptMwiggle', 'adeptOoo', 'adeptPop', 'adeptPrayge', 'adeptPur', 'adeptReyna', 'adeptRIPBozo', 'adeptS', 'adeptScool', 'adeptSCopium', 'adeptSded', 'adeptShooter', 'adeptSradio', 'adeptSscared', 'adeptSsusge', 'adeptSusge', 'adeptTF', 'adeptWC']\n",
    "BausSub = ['baus2Head', 'baus5Head', 'bausAngry', 'bausAYAYA', 'bausBased', 'bausBooty', 'bausBusing', 'bausDab', 'bausDisoster', 'bausF', 'bausFacepalm', 'bausFlushed', 'bausGoodDeath', 'bausHydrate', 'bausKiss', 'bausKissDonnie', 'bausLeanin', 'bausLUL', 'bausNoo', 'bausPepega', 'bausPog', 'bausPowerspike', 'bausPray', 'bausPuke', 'bausPushup', 'bausScam', 'bausSelfie', 'bausShilling', 'bausSlik', 'bausSociety', 'bausSoloBolo', 'bausW', 'bausWave', 'bausWpgg', 'bausYiyi', 'bausYungleDiff']\n",
    "Baus = ['SpongeWait', 'bausEZ', 'PETTHEBAUS', 'BRAMBLUS', 'bausPushups', 'KrugsUp', 'BausDonut', 'DaBaus', 'Babush', 'PPogo', 'FeelsHentai', 'SadgeJAM', 'Leanin', 'forsenCD', 'flashAbuser', 'Yoking', 'KKled', 'imposterSus', 'PepeLaffing', 'SirO', 'Svin', 'BABUS', 'PEPW', 'robLick', 'ezChamp', 'Diddles', 'BorpaFoundYou', 'Yoker', 'CLEAN', 'PepeUff', 'peepoChicken', 'vibePLS', 'Chatters', 'WEIRD', 'MODS', 'COCKA', 'DodgeAbusers', 'WeirdChamping', 'JoeBiden', 'TeaTime', 'Shilling', 'YEPCock', 'Weebs', 'IMustLean', 'ClubDance', 'BausBoomer', 'YEPJAM', 'PeterChamp', 'DONUT', 'batJAM', 'DESPAIR', 'lizardPls', 'bausL', 'YEBB', 'BOOBA', 'SadChamp', 'RIOT', 'IRELIAING', 'INSANECAT', 'Cummies', 'Duck', 'SCOOBA', 'Corpa', 'MUTE', 'Boomba', 'ABDULpls', 'MLADY', 'NODDERS', 'peepoHey', 'peepoTalk', 'FeelsWeakMan', 'TriBoom', 'PepegaDriving', 'gachiHYPER', 'Jammies', 'Nerdge', 'borpaSpin', 'KKool', 'peepoRasp', 'pepeMeltdown', 'Peeporiot', 'OOOO', 'PogO', 'PauseChamp', 'Tssk', 'furryRun', 'SION', 'gankAbuser', 'Gaspnt', 'modSheck', 'zhonyasAbuser', 'aniBlush', 'pepeP', 'NOOO', 'FLUSH', 'AYAYA', 'Haha', 'lickR', 'lickL', 'PagWoman', 'SionPassive', 'WeirdShamp', 'EatPoo', 'OMEGALOOOOL', 'Susge', 'Pepeg', 'poopoHappy']\n",
    "Global = ['4Head', '8-)', ':(', ':)', ':-(', ':-)', ':-/', ':-\\\\', ':-D', ':-o', ':-O', ':-p', ':-P', ':-z', ':-Z', ':-|', ':/', ':\\\\', ':D', ':o', ':O', ':p', ':P', ':Z', ':z', ':|', ';)', ';-)', ';-p', ';-P', ';p', ';P', '<3', '>(', 'ANELE', 'ArgieB8', 'ArsonNoSexy', 'AsexualPride', 'AsianGlow', 'B)', 'B-)', 'BabyRage', 'BatChest', 'BCWarrior', 'BegWan', 'BibleThump', 'BigBrother', 'BigPhish', 'BisexualPride', 'BlackLivesMatter', 'BlargNaut', 'bleedPurple', 'BloodTrail', 'BOP', 'BrainSlug', 'BrokeBack', 'BuddhaBar', 'CaitlynS', 'CarlSmile', 'ChefFrank', 'cmonBruh', 'CoolCat', 'CoolStoryBob', 'copyThis', 'CorgiDerp', 'CrreamAwk', 'CurseLit', 'DAESuppy', 'DansGame', 'DarkKnight', 'DarkMode', 'DatSheffy', 'DBstyle', 'DendiFace', 'DogFace', 'DoritosChip', 'duDudu', 'DxCat', 'EarthDay', 'EleGiggle', 'EntropyWins', 'ExtraLife', 'FailFish', 'FamilyMan', 'FBBlock', 'FBCatch', 'FBChallenge', 'FBPass', 'FBPenalty', 'FBRun', 'FBSpiral', 'FBtouchdown', 'FootBall', 'FootGoal', 'FootYellow', 'FrankerZ', 'FreakinStinkin', 'FUNgineer', 'FutureMan', 'GayPride', 'GenderFluidPride', 'GingerPower', 'GivePLZ', 'GlitchCat', 'GlitchLit', 'GlitchNRG', 'GrammarKing', 'GunRun', 'HarleyWink', 'HassaanChop', 'HeyGuys', 'HolidayCookie', 'HolidayLog', 'HolidayPresent', 'HolidaySanta', 'HolidayTree', 'HotPokket', 'HSCheers', 'HSWP', 'HungryPaimon', 'imGlitch', 'ImTyping', 'IntersexPride', 'InuyoFace', 'ItsBoshyTime', 'Jebaited', 'Jebasted', 'JKanStyle', 'JonCarnage', 'KAPOW', 'Kappa', 'KappaClaus', 'KappaPride', 'KappaRoss', 'KappaWealth', 'Kappu', 'Keepo', 'KEKHeim', 'KevinTurtle', 'Kippa', 'KomodoHype', 'KonCha', 'Kreygasm', 'LaundryBasket', 'LesbianPride', 'LUL', 'Mau5', 'MaxLOL', 'mcaT', 'MercyWing1', 'MercyWing2', 'MikeHogu', 'MingLee', 'ModLove', 'MorphinTime', 'MrDestructoid', 'MVGame', 'MyAvatar', 'NewRecord', 'NinjaGrumpy', 'NomNom', 'NonbinaryPride', 'NotATK', 'NotLikeThis', 'O.O', 'o.o', 'o.O', 'O.o', 'o_o', 'o_O', 'O_O', 'O_o', 'OhMyDog', 'OneHand', 'OpieOP', 'OptimizePrime', 'OSFrog', 'panicBasket', 'PanicVis', 'PansexualPride', 'PartyHat', 'PartyTime', 'pastaThat', 'PeoplesChamp', 'PermaSmug', 'PicoMause', 'PinkMercy', 'PipeHype', 'PixelBob', 'PizzaTime', 'PJSalt', 'PJSugar', 'PMSTwin', 'PogBones', 'PogChamp', 'Poooound', 'PopCorn', 'PoroSad', 'PotFriend', 'PowerUpL', 'PowerUpR', 'PraiseIt', 'PRChase', 'PrimeMe', 'PunchTrees', 'PunOko', 'R)', 'R-)', 'RaccAttack', 'RalpherZ', 'RedCoat', 'ResidentSleeper', 'riPepperonis', 'RitzMitz', 'RlyTho', 'RuleFive', 'RyuChamp', 'SabaPing', 'SeemsGood', 'SeriousSloth', 'ShadyLulu', 'ShazBotstix', 'Shush', 'SingsMic', 'SingsNote', 'SmoocherZ', 'SMOrc', 'SoBayed', 'SoonerLater', 'Squid1', 'Squid2', 'Squid3', 'Squid4', 'SSSsss', 'StinkyCheese', 'StinkyGlitch', 'StoneLightning', 'StrawBeary', 'SuperVinlin', 'SwiftRage', 'TakeNRG', 'TBAngel', 'TearGlove', 'TehePelo', 'TF2John', 'ThankEgg', 'TheIlluminati', 'TheRinger', 'TheTarFu', 'TheThing', 'ThunBeast', 'TinyFace', 'TombRaid', 'TooSpicy', 'TPcrunchyroll', 'TPFufun', 'TransgenderPride', 'TriHard', 'TTours', 'TwitchLit', 'twitchRaid', 'TwitchRPG', 'TwitchSings', 'TwitchUnity', 'TwitchVotes', 'UncleNox', 'UnSane', 'UWot', 'VirtualHug', 'VoHiYo', 'VoteNay', 'VoteYea', 'WholeWheat', 'WhySoSerious', 'WTRuck', 'WutFace', 'YouDontSay', 'YouWHY']\n",
    "xQc = ['xqcA', 'xqcAm', 'xqcArm1', 'xqcArm2', 'xqcC', 'xqcCheer', 'xqcClown', 'xqcCo', 'xqcCringe', 'xqcDab', 'xqcDespair', 'xqcDrip', 'xqcDUD', 'xqcE', 'xqcEZ', 'xqcF', 'xqcFace', 'xqcG', 'xqcH', 'xqcHAA', 'xqcHands', 'xqcHead', 'xqcHYPERF', 'xqcI', 'xqcJ', 'xqcJoy', 'xqcJuice', 'xqcK', 'xqcKek', 'xqcL', 'xqcLL', 'xqcLook', 'xqcLove', 'xqcM', 'xqcMood', 'xqcMS', 'xqcN', 'xqcNom', 'xqcOld', 'xqcOmega', 'xqcPeepo', 'xqcPrime', 'xqcRage', 'xqcRich', 'xqcS', 'xqcSad', 'xqcSheesh', 'xqcSkip', 'xqcSkull', 'xqcSlam', 'xqcSleeper', 'xqcSmile', 'xqcSmug', 'xqcStare', 'xqcStory', 'xqcSus', 'xqcSword', 'xqcT', 'xqcTF', 'xqcTL', 'xqcTOS', 'xqcTree', 'xqcWtf', 'xqcWut', 'xqcY']"
   ]
  },
  {
   "cell_type": "code",
   "execution_count": 10,
   "metadata": {},
   "outputs": [],
   "source": [
    "messages = data['Messages'].str.replace('b\\'','') #Due to encoding, each message has a b' infront of it. We remove in this step.\n",
    "labels = data['Channels'] \n",
    "ripper = lambda x: x[:-1] #Remove the ' at the end of the message as well\n",
    "messages = messages.apply(ripper) \n",
    " #This changes the message <-> channel relation to a word <-> channel relation. This is quite heavy.\n",
    "splitter = lambda x: x.split() #This splits the message into the words\n",
    "messages = messages.apply(splitter)\n",
    "lens = [len(x) for x in messages]\n",
    "Labeling = lens*(labels + \" \").apply(splitter)\n",
    "messages = [word for sentence in messages for word in sentence] #This splits the message into the words\n",
    "Labeling = [name for all in Labeling for name in all]\n",
    "stripper = lambda x: re.sub(r'[^\\w]', '', x) #This removes everything that is not a number or a letter (both upper and lower case)\n",
    "messages = pd.Series(messages).apply(stripper)"
   ]
  },
  {
   "cell_type": "code",
   "execution_count": 73,
   "metadata": {},
   "outputs": [],
   "source": [
    "EmoteSource = []\n",
    "for message in messages:\n",
    "    if message in AdeptSub:\n",
    "        EmoteSource.append(message)\n",
    "    elif message in Adept:\n",
    "        EmoteSource.append(message)\n",
    "    elif message in BausSub:\n",
    "        EmoteSource.append(message)\n",
    "    elif message in Baus:\n",
    "        EmoteSource.append(message)\n",
    "    elif message in Global:\n",
    "        EmoteSource.append(message)\n",
    "    elif message in xQc:\n",
    "        EmoteSource.append(message)\n",
    "    elif message == 'OMEGALUL':\n",
    "        EmoteSource.append(message)\n",
    "\n",
    "    "
   ]
  },
  {
   "cell_type": "code",
   "execution_count": 74,
   "metadata": {},
   "outputs": [
    {
     "data": {
      "text/plain": [
       "OMEGALUL     2967\n",
       "DESPAIR      1138\n",
       "LUL          1122\n",
       "PotFriend    1070\n",
       "GIGACHAD      884\n",
       "RIOT          740\n",
       "Kappa         589\n",
       "EZ            564\n",
       "KrugsUp       497\n",
       "MUTE          493\n",
       "dtype: int64"
      ]
     },
     "execution_count": 74,
     "metadata": {},
     "output_type": "execute_result"
    }
   ],
   "source": [
    "pd.Series(EmoteSource).value_counts()[0:10]"
   ]
  },
  {
   "cell_type": "code",
   "execution_count": 63,
   "metadata": {},
   "outputs": [],
   "source": [
    "df = pd.DataFrame({'Item':EmoteSource})"
   ]
  },
  {
   "cell_type": "code",
   "execution_count": 64,
   "metadata": {},
   "outputs": [],
   "source": [
    "df2 = df.groupby(['Item']).size()"
   ]
  },
  {
   "cell_type": "code",
   "execution_count": 65,
   "metadata": {},
   "outputs": [
    {
     "data": {
      "text/plain": [
       "Item\n",
       "Adept Sub Emote      1253\n",
       "Baus Sub Emote        266\n",
       "BetterTTV           12918\n",
       "Global Emote         6252\n",
       "Not an emote       167502\n",
       "xQc Sub Emote        1999\n",
       "dtype: int64"
      ]
     },
     "execution_count": 65,
     "metadata": {},
     "output_type": "execute_result"
    }
   ],
   "source": [
    "df2"
   ]
  },
  {
   "cell_type": "code",
   "execution_count": 66,
   "metadata": {},
   "outputs": [],
   "source": [
    "df3 = pd.DataFrame({'Adept Sub Emote':[1253], 'Baus Sub Emote':266, 'BetterTTV':12918, 'Global Emote':6252, 'xQc Sub Emote':1999})\n",
    "df4 = pd.DataFrame({'Source':np.array(df3.columns), 'Amount': [1253,266,12918,6252,1999]})"
   ]
  },
  {
   "cell_type": "code",
   "execution_count": 67,
   "metadata": {},
   "outputs": [
    {
     "data": {
      "application/vnd.plotly.v1+json": {
       "config": {
        "plotlyServerURL": "https://plot.ly"
       },
       "data": [
        {
         "domain": {
          "x": [
           0,
           1
          ],
          "y": [
           0,
           1
          ]
         },
         "hovertemplate": "Source=%{label}<br>Amount=%{value}<extra></extra>",
         "labels": [
          "Adept Sub Emote",
          "Baus Sub Emote",
          "BetterTTV",
          "Global Emote",
          "xQc Sub Emote"
         ],
         "legendgroup": "",
         "name": "",
         "showlegend": true,
         "type": "pie",
         "values": [
          1253,
          266,
          12918,
          6252,
          1999
         ]
        }
       ],
       "layout": {
        "legend": {
         "tracegroupgap": 0
        },
        "template": {
         "data": {
          "bar": [
           {
            "error_x": {
             "color": "#2a3f5f"
            },
            "error_y": {
             "color": "#2a3f5f"
            },
            "marker": {
             "line": {
              "color": "#E5ECF6",
              "width": 0.5
             },
             "pattern": {
              "fillmode": "overlay",
              "size": 10,
              "solidity": 0.2
             }
            },
            "type": "bar"
           }
          ],
          "barpolar": [
           {
            "marker": {
             "line": {
              "color": "#E5ECF6",
              "width": 0.5
             },
             "pattern": {
              "fillmode": "overlay",
              "size": 10,
              "solidity": 0.2
             }
            },
            "type": "barpolar"
           }
          ],
          "carpet": [
           {
            "aaxis": {
             "endlinecolor": "#2a3f5f",
             "gridcolor": "white",
             "linecolor": "white",
             "minorgridcolor": "white",
             "startlinecolor": "#2a3f5f"
            },
            "baxis": {
             "endlinecolor": "#2a3f5f",
             "gridcolor": "white",
             "linecolor": "white",
             "minorgridcolor": "white",
             "startlinecolor": "#2a3f5f"
            },
            "type": "carpet"
           }
          ],
          "choropleth": [
           {
            "colorbar": {
             "outlinewidth": 0,
             "ticks": ""
            },
            "type": "choropleth"
           }
          ],
          "contour": [
           {
            "colorbar": {
             "outlinewidth": 0,
             "ticks": ""
            },
            "colorscale": [
             [
              0,
              "#0d0887"
             ],
             [
              0.1111111111111111,
              "#46039f"
             ],
             [
              0.2222222222222222,
              "#7201a8"
             ],
             [
              0.3333333333333333,
              "#9c179e"
             ],
             [
              0.4444444444444444,
              "#bd3786"
             ],
             [
              0.5555555555555556,
              "#d8576b"
             ],
             [
              0.6666666666666666,
              "#ed7953"
             ],
             [
              0.7777777777777778,
              "#fb9f3a"
             ],
             [
              0.8888888888888888,
              "#fdca26"
             ],
             [
              1,
              "#f0f921"
             ]
            ],
            "type": "contour"
           }
          ],
          "contourcarpet": [
           {
            "colorbar": {
             "outlinewidth": 0,
             "ticks": ""
            },
            "type": "contourcarpet"
           }
          ],
          "heatmap": [
           {
            "colorbar": {
             "outlinewidth": 0,
             "ticks": ""
            },
            "colorscale": [
             [
              0,
              "#0d0887"
             ],
             [
              0.1111111111111111,
              "#46039f"
             ],
             [
              0.2222222222222222,
              "#7201a8"
             ],
             [
              0.3333333333333333,
              "#9c179e"
             ],
             [
              0.4444444444444444,
              "#bd3786"
             ],
             [
              0.5555555555555556,
              "#d8576b"
             ],
             [
              0.6666666666666666,
              "#ed7953"
             ],
             [
              0.7777777777777778,
              "#fb9f3a"
             ],
             [
              0.8888888888888888,
              "#fdca26"
             ],
             [
              1,
              "#f0f921"
             ]
            ],
            "type": "heatmap"
           }
          ],
          "heatmapgl": [
           {
            "colorbar": {
             "outlinewidth": 0,
             "ticks": ""
            },
            "colorscale": [
             [
              0,
              "#0d0887"
             ],
             [
              0.1111111111111111,
              "#46039f"
             ],
             [
              0.2222222222222222,
              "#7201a8"
             ],
             [
              0.3333333333333333,
              "#9c179e"
             ],
             [
              0.4444444444444444,
              "#bd3786"
             ],
             [
              0.5555555555555556,
              "#d8576b"
             ],
             [
              0.6666666666666666,
              "#ed7953"
             ],
             [
              0.7777777777777778,
              "#fb9f3a"
             ],
             [
              0.8888888888888888,
              "#fdca26"
             ],
             [
              1,
              "#f0f921"
             ]
            ],
            "type": "heatmapgl"
           }
          ],
          "histogram": [
           {
            "marker": {
             "pattern": {
              "fillmode": "overlay",
              "size": 10,
              "solidity": 0.2
             }
            },
            "type": "histogram"
           }
          ],
          "histogram2d": [
           {
            "colorbar": {
             "outlinewidth": 0,
             "ticks": ""
            },
            "colorscale": [
             [
              0,
              "#0d0887"
             ],
             [
              0.1111111111111111,
              "#46039f"
             ],
             [
              0.2222222222222222,
              "#7201a8"
             ],
             [
              0.3333333333333333,
              "#9c179e"
             ],
             [
              0.4444444444444444,
              "#bd3786"
             ],
             [
              0.5555555555555556,
              "#d8576b"
             ],
             [
              0.6666666666666666,
              "#ed7953"
             ],
             [
              0.7777777777777778,
              "#fb9f3a"
             ],
             [
              0.8888888888888888,
              "#fdca26"
             ],
             [
              1,
              "#f0f921"
             ]
            ],
            "type": "histogram2d"
           }
          ],
          "histogram2dcontour": [
           {
            "colorbar": {
             "outlinewidth": 0,
             "ticks": ""
            },
            "colorscale": [
             [
              0,
              "#0d0887"
             ],
             [
              0.1111111111111111,
              "#46039f"
             ],
             [
              0.2222222222222222,
              "#7201a8"
             ],
             [
              0.3333333333333333,
              "#9c179e"
             ],
             [
              0.4444444444444444,
              "#bd3786"
             ],
             [
              0.5555555555555556,
              "#d8576b"
             ],
             [
              0.6666666666666666,
              "#ed7953"
             ],
             [
              0.7777777777777778,
              "#fb9f3a"
             ],
             [
              0.8888888888888888,
              "#fdca26"
             ],
             [
              1,
              "#f0f921"
             ]
            ],
            "type": "histogram2dcontour"
           }
          ],
          "mesh3d": [
           {
            "colorbar": {
             "outlinewidth": 0,
             "ticks": ""
            },
            "type": "mesh3d"
           }
          ],
          "parcoords": [
           {
            "line": {
             "colorbar": {
              "outlinewidth": 0,
              "ticks": ""
             }
            },
            "type": "parcoords"
           }
          ],
          "pie": [
           {
            "automargin": true,
            "type": "pie"
           }
          ],
          "scatter": [
           {
            "marker": {
             "colorbar": {
              "outlinewidth": 0,
              "ticks": ""
             }
            },
            "type": "scatter"
           }
          ],
          "scatter3d": [
           {
            "line": {
             "colorbar": {
              "outlinewidth": 0,
              "ticks": ""
             }
            },
            "marker": {
             "colorbar": {
              "outlinewidth": 0,
              "ticks": ""
             }
            },
            "type": "scatter3d"
           }
          ],
          "scattercarpet": [
           {
            "marker": {
             "colorbar": {
              "outlinewidth": 0,
              "ticks": ""
             }
            },
            "type": "scattercarpet"
           }
          ],
          "scattergeo": [
           {
            "marker": {
             "colorbar": {
              "outlinewidth": 0,
              "ticks": ""
             }
            },
            "type": "scattergeo"
           }
          ],
          "scattergl": [
           {
            "marker": {
             "colorbar": {
              "outlinewidth": 0,
              "ticks": ""
             }
            },
            "type": "scattergl"
           }
          ],
          "scattermapbox": [
           {
            "marker": {
             "colorbar": {
              "outlinewidth": 0,
              "ticks": ""
             }
            },
            "type": "scattermapbox"
           }
          ],
          "scatterpolar": [
           {
            "marker": {
             "colorbar": {
              "outlinewidth": 0,
              "ticks": ""
             }
            },
            "type": "scatterpolar"
           }
          ],
          "scatterpolargl": [
           {
            "marker": {
             "colorbar": {
              "outlinewidth": 0,
              "ticks": ""
             }
            },
            "type": "scatterpolargl"
           }
          ],
          "scatterternary": [
           {
            "marker": {
             "colorbar": {
              "outlinewidth": 0,
              "ticks": ""
             }
            },
            "type": "scatterternary"
           }
          ],
          "surface": [
           {
            "colorbar": {
             "outlinewidth": 0,
             "ticks": ""
            },
            "colorscale": [
             [
              0,
              "#0d0887"
             ],
             [
              0.1111111111111111,
              "#46039f"
             ],
             [
              0.2222222222222222,
              "#7201a8"
             ],
             [
              0.3333333333333333,
              "#9c179e"
             ],
             [
              0.4444444444444444,
              "#bd3786"
             ],
             [
              0.5555555555555556,
              "#d8576b"
             ],
             [
              0.6666666666666666,
              "#ed7953"
             ],
             [
              0.7777777777777778,
              "#fb9f3a"
             ],
             [
              0.8888888888888888,
              "#fdca26"
             ],
             [
              1,
              "#f0f921"
             ]
            ],
            "type": "surface"
           }
          ],
          "table": [
           {
            "cells": {
             "fill": {
              "color": "#EBF0F8"
             },
             "line": {
              "color": "white"
             }
            },
            "header": {
             "fill": {
              "color": "#C8D4E3"
             },
             "line": {
              "color": "white"
             }
            },
            "type": "table"
           }
          ]
         },
         "layout": {
          "annotationdefaults": {
           "arrowcolor": "#2a3f5f",
           "arrowhead": 0,
           "arrowwidth": 1
          },
          "autotypenumbers": "strict",
          "coloraxis": {
           "colorbar": {
            "outlinewidth": 0,
            "ticks": ""
           }
          },
          "colorscale": {
           "diverging": [
            [
             0,
             "#8e0152"
            ],
            [
             0.1,
             "#c51b7d"
            ],
            [
             0.2,
             "#de77ae"
            ],
            [
             0.3,
             "#f1b6da"
            ],
            [
             0.4,
             "#fde0ef"
            ],
            [
             0.5,
             "#f7f7f7"
            ],
            [
             0.6,
             "#e6f5d0"
            ],
            [
             0.7,
             "#b8e186"
            ],
            [
             0.8,
             "#7fbc41"
            ],
            [
             0.9,
             "#4d9221"
            ],
            [
             1,
             "#276419"
            ]
           ],
           "sequential": [
            [
             0,
             "#0d0887"
            ],
            [
             0.1111111111111111,
             "#46039f"
            ],
            [
             0.2222222222222222,
             "#7201a8"
            ],
            [
             0.3333333333333333,
             "#9c179e"
            ],
            [
             0.4444444444444444,
             "#bd3786"
            ],
            [
             0.5555555555555556,
             "#d8576b"
            ],
            [
             0.6666666666666666,
             "#ed7953"
            ],
            [
             0.7777777777777778,
             "#fb9f3a"
            ],
            [
             0.8888888888888888,
             "#fdca26"
            ],
            [
             1,
             "#f0f921"
            ]
           ],
           "sequentialminus": [
            [
             0,
             "#0d0887"
            ],
            [
             0.1111111111111111,
             "#46039f"
            ],
            [
             0.2222222222222222,
             "#7201a8"
            ],
            [
             0.3333333333333333,
             "#9c179e"
            ],
            [
             0.4444444444444444,
             "#bd3786"
            ],
            [
             0.5555555555555556,
             "#d8576b"
            ],
            [
             0.6666666666666666,
             "#ed7953"
            ],
            [
             0.7777777777777778,
             "#fb9f3a"
            ],
            [
             0.8888888888888888,
             "#fdca26"
            ],
            [
             1,
             "#f0f921"
            ]
           ]
          },
          "colorway": [
           "#636efa",
           "#EF553B",
           "#00cc96",
           "#ab63fa",
           "#FFA15A",
           "#19d3f3",
           "#FF6692",
           "#B6E880",
           "#FF97FF",
           "#FECB52"
          ],
          "font": {
           "color": "#2a3f5f"
          },
          "geo": {
           "bgcolor": "white",
           "lakecolor": "white",
           "landcolor": "#E5ECF6",
           "showlakes": true,
           "showland": true,
           "subunitcolor": "white"
          },
          "hoverlabel": {
           "align": "left"
          },
          "hovermode": "closest",
          "mapbox": {
           "style": "light"
          },
          "paper_bgcolor": "white",
          "plot_bgcolor": "#E5ECF6",
          "polar": {
           "angularaxis": {
            "gridcolor": "white",
            "linecolor": "white",
            "ticks": ""
           },
           "bgcolor": "#E5ECF6",
           "radialaxis": {
            "gridcolor": "white",
            "linecolor": "white",
            "ticks": ""
           }
          },
          "scene": {
           "xaxis": {
            "backgroundcolor": "#E5ECF6",
            "gridcolor": "white",
            "gridwidth": 2,
            "linecolor": "white",
            "showbackground": true,
            "ticks": "",
            "zerolinecolor": "white"
           },
           "yaxis": {
            "backgroundcolor": "#E5ECF6",
            "gridcolor": "white",
            "gridwidth": 2,
            "linecolor": "white",
            "showbackground": true,
            "ticks": "",
            "zerolinecolor": "white"
           },
           "zaxis": {
            "backgroundcolor": "#E5ECF6",
            "gridcolor": "white",
            "gridwidth": 2,
            "linecolor": "white",
            "showbackground": true,
            "ticks": "",
            "zerolinecolor": "white"
           }
          },
          "shapedefaults": {
           "line": {
            "color": "#2a3f5f"
           }
          },
          "ternary": {
           "aaxis": {
            "gridcolor": "white",
            "linecolor": "white",
            "ticks": ""
           },
           "baxis": {
            "gridcolor": "white",
            "linecolor": "white",
            "ticks": ""
           },
           "bgcolor": "#E5ECF6",
           "caxis": {
            "gridcolor": "white",
            "linecolor": "white",
            "ticks": ""
           }
          },
          "title": {
           "x": 0.05
          },
          "xaxis": {
           "automargin": true,
           "gridcolor": "white",
           "linecolor": "white",
           "ticks": "",
           "title": {
            "standoff": 15
           },
           "zerolinecolor": "white",
           "zerolinewidth": 2
          },
          "yaxis": {
           "automargin": true,
           "gridcolor": "white",
           "linecolor": "white",
           "ticks": "",
           "title": {
            "standoff": 15
           },
           "zerolinecolor": "white",
           "zerolinewidth": 2
          }
         }
        },
        "title": {
         "text": "Emotes used",
         "x": 0.5
        }
       }
      }
     },
     "metadata": {},
     "output_type": "display_data"
    }
   ],
   "source": [
    "fig = px.pie(df4,values='Amount', names='Source', title='Emotes used')\n",
    "fig.update_layout(title_x=0.5)"
   ]
  },
  {
   "cell_type": "code",
   "execution_count": null,
   "metadata": {},
   "outputs": [],
   "source": []
  }
 ],
 "metadata": {
  "interpreter": {
   "hash": "e4cce46d6be9934fbd27f9ca0432556941ea5bdf741d4f4d64c6cd7f8dfa8fba"
  },
  "kernelspec": {
   "display_name": "Python 3.9.7 ('base')",
   "language": "python",
   "name": "python3"
  },
  "language_info": {
   "codemirror_mode": {
    "name": "ipython",
    "version": 3
   },
   "file_extension": ".py",
   "mimetype": "text/x-python",
   "name": "python",
   "nbconvert_exporter": "python",
   "pygments_lexer": "ipython3",
   "version": "3.9.7"
  },
  "orig_nbformat": 4
 },
 "nbformat": 4,
 "nbformat_minor": 2
}
