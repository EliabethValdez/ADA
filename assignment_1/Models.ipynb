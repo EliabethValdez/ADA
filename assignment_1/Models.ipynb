{
  "cells": [
    {
      "cell_type": "code",
      "execution_count": null,
      "metadata": {
        "id": "UNFxR_Rj4qbF"
      },
      "outputs": [],
      "source": [
        "import pandas as pd\n",
        "import numpy as np\n",
        "import sklearn as sk\n",
        "import plotly.express as px\n",
        "from sklearn.preprocessing import StandardScaler, MinMaxScaler\n",
        "import seaborn as sns\n",
        "from sklearn.model_selection import StratifiedKFold\n",
        "from sklearn.pipeline import Pipeline\n",
        "from sklearn.model_selection import StratifiedKFold, cross_val_score, train_test_split\n",
        "from sklearn.linear_model import LogisticRegression\n",
        "from sklearn.svm import LinearSVC\n",
        "from sklearn.ensemble import RandomForestClassifier\n",
        "from sklearn.model_selection import GridSearchCV\n",
        "from sklearn.metrics import classification_report, confusion_matrix, accuracy_score, balanced_accuracy_score\n"
      ]
    },
    {
      "cell_type": "markdown",
      "metadata": {
        "id": "4c2QVFHPAKlB"
      },
      "source": [
        "After the change made to the Github, you can just simply run the cells below."
      ]
    },
    {
      "cell_type": "code",
      "execution_count": null,
      "metadata": {
        "id": "fcU3pFZn4qbG"
      },
      "outputs": [],
      "source": [
        "path_train = 'https://raw.githubusercontent.com/EliabethValdez/ADA/main/assignment_1/data_train_final.csv'\n",
        "df = pd.read_csv(path_train, parse_dates= True)"
      ]
    },
    {
      "cell_type": "code",
      "execution_count": null,
      "metadata": {
        "id": "1ESqLYTY4u5E"
      },
      "outputs": [],
      "source": [
        "path_test = 'https://raw.githubusercontent.com/EliabethValdez/ADA/main/assignment_1/data_test_final.csv'\n",
        "df_test = pd.read_csv(path_test, parse_dates = True)"
      ]
    },
    {
      "cell_type": "markdown",
      "metadata": {
        "id": "U6U-sSmF4qbH"
      },
      "source": [
        "<h1>  <u> Counts model</u></h1>\n",
        "In the first model, we will consider as our variable set the following variables. Included in this set are the count variables created in the other notebook.\n",
        "We convert these into the correct data type and use pandas to get their dummy representations."
      ]
    },
    {
      "cell_type": "code",
      "execution_count": null,
      "metadata": {
        "id": "3PdI1gKR4qbI"
      },
      "outputs": [],
      "source": [
        "Cat_var = list(['homebanking_active_count',\n",
        "               'has_homebanking_count',\n",
        "               'has_insurance_21_count',\n",
        "               'has_insurance_23_count',\n",
        "               'has_life_insurance_fixed_cap_count',\n",
        "               'has_life_insurance_decreasing_cap_count',\n",
        "               'has_fire_car_other_insurance_count',\n",
        "               'has_personal_loan_count',\n",
        "               'has_mortgage_loan_count',\n",
        "               'has_current_account_count',\n",
        "               'has_pension_saving_count',\n",
        "               'has_savings_account_count',\n",
        "               'has_current_account_starter_count',\n",
        "               'gender',\n",
        "               \"customer_relationship_cat\",\n",
        "               'customer_children_cat',\n",
        "               'insurance_count',\n",
        "               'savings_count',\n",
        "               'loan_count',\n",
        "               'has_account_count', 'customer_self_employed_count']\n",
        "               )\n",
        "dummies = pd.get_dummies(df[Cat_var].astype('O'))"
      ]
    },
    {
      "cell_type": "markdown",
      "metadata": {
        "id": "KhOf713m4qbI"
      },
      "source": [
        "Below are the continuous variables includes in hte model. Notice that we use the diff variables defined in the other notebook, aswell as the Months on Books variable and the debt ratio."
      ]
    },
    {
      "cell_type": "code",
      "execution_count": null,
      "metadata": {
        "id": "IRHgWH7U4qbI"
      },
      "outputs": [],
      "source": [
        "Cont_var = list([\n",
        "    'mob',\n",
        "    'age',\n",
        "    'bal_insurance_21_diff',\n",
        "    'bal_insurance_23_diff',\n",
        "    'cap_life_insurance_fixed_cap_diff',\n",
        "    'cap_life_insurance_decreasing_cap_diff',\n",
        "    'prem_fire_car_other_insurance_diff',\n",
        "    'bal_personal_loan_diff',\n",
        "    'bal_mortgage_loan_diff',\n",
        "    'bal_current_account_diff',\n",
        "    'bal_pension_saving_diff',\n",
        "    'bal_savings_account_diff',\n",
        "    'bal_savings_account_starter_diff',\n",
        "    'bal_current_account_starter_diff',\n",
        "    'debt_ratio_diff'\n",
        "])\n",
        "cts = df[Cont_var]\n"
      ]
    },
    {
      "cell_type": "markdown",
      "metadata": {
        "id": "y6aeT4Ox4qbJ"
      },
      "source": [
        "We define the relevant data sets, and then split them in a stratified split for training and validation.\n",
        "A stratified split ensures us that the training and the validation set both have a similar amount of churners and non-churners, which is an important characteristic."
      ]
    },
    {
      "cell_type": "code",
      "execution_count": null,
      "metadata": {
        "id": "WKhqAtBF4qbJ"
      },
      "outputs": [],
      "source": [
        "X = pd.concat((cts,dummies),axis=1)"
      ]
    },
    {
      "cell_type": "code",
      "execution_count": null,
      "metadata": {
        "id": "GILeVMjK4qbJ"
      },
      "outputs": [],
      "source": [
        "y = df['target']"
      ]
    },
    {
      "cell_type": "code",
      "execution_count": null,
      "metadata": {
        "id": "9h1cHn604qbJ"
      },
      "outputs": [],
      "source": [
        "X_train, X_test,y_train, y_test = train_test_split(X, y, test_size = 0.33, stratify=y, random_state=23)\n"
      ]
    },
    {
      "cell_type": "markdown",
      "metadata": {
        "id": "o_lsVLgs9cOB"
      },
      "source": [
        "We also do the same thing for the test data."
      ]
    },
    {
      "cell_type": "code",
      "execution_count": null,
      "metadata": {
        "colab": {
          "base_uri": "https://localhost:8080/"
        },
        "id": "pOXZHnFYBHjq",
        "outputId": "c83e8404-2835-4e25-cffe-5ad3c425a60b"
      },
      "outputs": [
        {
          "output_type": "execute_result",
          "data": {
            "text/plain": [
              "114"
            ]
          },
          "metadata": {},
          "execution_count": 9
        }
      ],
      "source": [
        "len(list(df_test))"
      ]
    },
    {
      "cell_type": "code",
      "execution_count": null,
      "metadata": {
        "colab": {
          "base_uri": "https://localhost:8080/"
        },
        "id": "SJqQEl8EBN20",
        "outputId": "70a753aa-6135-43af-a89b-c740dd997996"
      },
      "outputs": [
        {
          "output_type": "execute_result",
          "data": {
            "text/plain": [
              "['client_id',\n",
              " 'customer_since_all',\n",
              " 'customer_since_bank',\n",
              " 'customer_gender',\n",
              " 'customer_birth_date',\n",
              " 'customer_postal_code',\n",
              " 'customer_occupation_code',\n",
              " 'customer_education',\n",
              " 'homebanking_active_3',\n",
              " 'has_homebanking_3',\n",
              " 'has_insurance_21_3',\n",
              " 'has_insurance_23_3',\n",
              " 'has_life_insurance_fixed_cap_3',\n",
              " 'has_life_insurance_decreasing_cap_3',\n",
              " 'has_fire_car_other_insurance_3',\n",
              " 'has_personal_loan_3',\n",
              " 'has_mortgage_loan_3',\n",
              " 'has_current_account_3',\n",
              " 'has_pension_saving_3',\n",
              " 'has_savings_account_3',\n",
              " 'has_savings_account_starter_3',\n",
              " 'has_current_account_starter_3',\n",
              " 'bal_insurance_21_3',\n",
              " 'bal_insurance_23_3',\n",
              " 'cap_life_insurance_fixed_cap_3',\n",
              " 'cap_life_insurance_decreasing_cap_3',\n",
              " 'prem_fire_car_other_insurance_3',\n",
              " 'bal_personal_loan_3',\n",
              " 'bal_mortgage_loan_3',\n",
              " 'bal_current_account_3',\n",
              " 'bal_pension_saving_3',\n",
              " 'bal_savings_account_3',\n",
              " 'bal_savings_account_starter_3',\n",
              " 'bal_current_account_starter_3',\n",
              " 'visits_distinct_so_3',\n",
              " 'visits_distinct_so_areas_3',\n",
              " 'customer_self_employed_3',\n",
              " 'customer_children_3',\n",
              " 'customer_relationship_3',\n",
              " 'homebanking_active_seq',\n",
              " 'has_homebanking_seq',\n",
              " 'has_insurance_21_seq',\n",
              " 'has_insurance_23_seq',\n",
              " 'has_life_insurance_fixed_cap_seq',\n",
              " 'has_life_insurance_decreasing_cap_seq',\n",
              " 'has_fire_car_other_insurance_seq',\n",
              " 'has_personal_loan_seq',\n",
              " 'has_mortgage_loan_seq',\n",
              " 'has_current_account_seq',\n",
              " 'has_pension_saving_seq',\n",
              " 'has_savings_account_seq',\n",
              " 'has_savings_account_starter_seq',\n",
              " 'has_current_account_starter_seq',\n",
              " 'homebanking_active_count',\n",
              " 'has_homebanking_count',\n",
              " 'has_insurance_21_count',\n",
              " 'has_insurance_23_count',\n",
              " 'has_life_insurance_fixed_cap_count',\n",
              " 'has_life_insurance_decreasing_cap_count',\n",
              " 'has_fire_car_other_insurance_count',\n",
              " 'has_personal_loan_count',\n",
              " 'has_mortgage_loan_count',\n",
              " 'has_current_account_count',\n",
              " 'has_pension_saving_count',\n",
              " 'has_savings_account_count',\n",
              " 'has_savings_account_starter_count',\n",
              " 'has_current_account_starter_count',\n",
              " 'bal_insurance_21_diff',\n",
              " 'bal_insurance_23_diff',\n",
              " 'cap_life_insurance_fixed_cap_diff',\n",
              " 'cap_life_insurance_decreasing_cap_diff',\n",
              " 'prem_fire_car_other_insurance_diff',\n",
              " 'bal_personal_loan_diff',\n",
              " 'bal_mortgage_loan_diff',\n",
              " 'bal_current_account_diff',\n",
              " 'bal_pension_saving_diff',\n",
              " 'bal_savings_account_diff',\n",
              " 'bal_savings_account_starter_diff',\n",
              " 'bal_current_account_starter_diff',\n",
              " 'visits_distinct_so_diff',\n",
              " 'visits_distinct_so_areas_diff',\n",
              " 'customer_since_all_d',\n",
              " 'customer_birth_date_d',\n",
              " 'mob',\n",
              " 'age',\n",
              " 'insurance_3',\n",
              " 'savings_3',\n",
              " 'loan_3',\n",
              " 'has_account_3',\n",
              " 'bal_insurance_3',\n",
              " 'bal_savings_3',\n",
              " 'bal_loan_3',\n",
              " 'debt_ratio_3',\n",
              " 'gender',\n",
              " 'insurance_seq',\n",
              " 'savings_seq',\n",
              " 'loan_seq',\n",
              " 'has_account_seq',\n",
              " 'insurance_count',\n",
              " 'savings_count',\n",
              " 'loan_count',\n",
              " 'has_account_count',\n",
              " 'bal_insurance_diff',\n",
              " 'bal_savings_diff',\n",
              " 'bal_loan_diff',\n",
              " 'customer_self_employed_seq',\n",
              " 'customer_self_employed_count',\n",
              " 'debt_ratio_diff',\n",
              " 'customer_children_clean_3',\n",
              " 'customer_children_seq',\n",
              " 'customer_children_cat',\n",
              " 'customer_relationship_clean_3',\n",
              " 'customer_relationship_seq',\n",
              " 'customer_relationship_cat']"
            ]
          },
          "metadata": {},
          "execution_count": 9
        }
      ],
      "source": [
        "list(df_test)"
      ]
    },
    {
      "cell_type": "code",
      "execution_count": null,
      "metadata": {
        "id": "4td45ShC9klf"
      },
      "outputs": [],
      "source": [
        "dummies_test = pd.get_dummies(df_test[Cat_var].astype('O'))\n",
        "cts_test = df_test[Cont_var]\n",
        "Testset = pd.concat((cts_test,dummies_test),axis=1)"
      ]
    },
    {
      "cell_type": "markdown",
      "metadata": {
        "id": "4XZ5IYEN4qbK"
      },
      "source": [
        "We now consider several models. All of these are finetuned using a gridsearch, and extracting the model that performs best on the training data. Notice that we use stratified folds, which ensures once again that our folds have a similar number of churners. In our pipeline, we notice furthermore that we scale the data using a standard scaler (which just standardizes the data), our classifier is the random forest classifier (an ensemble method) and we have several parameters we finetune over."
      ]
    },
    {
      "cell_type": "code",
      "execution_count": null,
      "metadata": {
        "colab": {
          "base_uri": "https://localhost:8080/"
        },
        "id": "mJmgCZoC4qbK",
        "outputId": "2e56f564-5291-4d39-a879-d15f243157a1"
      },
      "outputs": [
        {
          "output_type": "stream",
          "name": "stdout",
          "text": [
            "0.6762374616982013 0.6739604650674758\n"
          ]
        }
      ],
      "source": [
        "cv = StratifiedKFold(n_splits=6)\n",
        "pipe1 = Pipeline([('scaler', StandardScaler()),\n",
        "                ('classifier', RandomForestClassifier(random_state=23))\n",
        "                ])\n",
        "params1 = {\n",
        "    \"classifier__class_weight\": [\"balanced\"],\n",
        "    \"classifier__max_depth\": np.arange(1, 9),\n",
        "    \"classifier__n_estimators\": [50, 150, 250],\n",
        "    \"classifier__max_features\": [None, \"log2\"]\n",
        "}\n",
        "gridsearch_11 = GridSearchCV(pipe1, params1, verbose=0, cv=cv,\n",
        "                          scoring='balanced_accuracy', n_jobs=10).fit(X_train, y_train)\n",
        "print(gridsearch_11.best_score_, gridsearch_11.score(X_test, y_test))\n"
      ]
    },
    {
      "cell_type": "code",
      "execution_count": null,
      "metadata": {
        "id": "Z1Y65z844tFu"
      },
      "outputs": [],
      "source": [
        "df_test['Pred1'] = gridsearch_11.predict_proba(Testset)[:,1]"
      ]
    },
    {
      "cell_type": "markdown",
      "metadata": {
        "id": "1k_LHzOm4qbL"
      },
      "source": [
        "To visualize the confusion matrix for each class, we express the results in percentages."
      ]
    },
    {
      "cell_type": "code",
      "execution_count": null,
      "metadata": {
        "id": "yzU_zr8z4qbL",
        "colab": {
          "base_uri": "https://localhost:8080/",
          "height": 324
        },
        "outputId": "941a5179-1390-4d66-ce05-0b45e0ecf508"
      },
      "outputs": [
        {
          "output_type": "execute_result",
          "data": {
            "text/plain": [
              "[Text(0, 0.5, 'False'), Text(0, 1.5, 'True')]"
            ]
          },
          "metadata": {},
          "execution_count": 14
        },
        {
          "output_type": "display_data",
          "data": {
            "text/plain": [
              "<Figure size 432x288 with 2 Axes>"
            ],
            "image/png": "[encoded data removed]"
          },
          "metadata": {
            "needs_background": "light"
          }
        }
      ],
      "source": [
        "pred_11 = gridsearch_11.predict(X_test)\n",
        "cm1 = confusion_matrix(y_test, pred_11)\n",
        "dd1 = [np.sum(cm1[0, :]), np.sum(cm1[1, :])]\n",
        "\n",
        "ax = sns.heatmap([cm1[0, :]/dd1[0], cm1[1, :]/dd1[1]], annot=True,\n",
        "                 fmt='.2%', cmap='Blues')\n",
        "\n",
        "ax.set_title('Confusion Matrix')\n",
        "ax.set_xlabel('\\nPredicted Values')\n",
        "ax.set_ylabel('Actual Values ')\n",
        "\n",
        "## Ticket labels - List must be in alphabetical order\n",
        "ax.xaxis.set_ticklabels(['False', 'True'])\n",
        "ax.yaxis.set_ticklabels(['False', 'True'])\n",
        "\n"
      ]
    },
    {
      "cell_type": "markdown",
      "metadata": {
        "id": "FyRaGOE34qbL"
      },
      "source": [
        "The second type of model considered is the Logistic Regression model. Here, we use a minmax scaler (which scales the data from 0 to 1). "
      ]
    },
    {
      "cell_type": "code",
      "execution_count": null,
      "metadata": {
        "id": "CqKrIDDu4qbM",
        "colab": {
          "base_uri": "https://localhost:8080/"
        },
        "outputId": "5735178d-47e9-45ef-ca57-c3621406f7e8"
      },
      "outputs": [
        {
          "output_type": "stream",
          "name": "stderr",
          "text": [
            "/usr/local/lib/python3.7/dist-packages/sklearn/model_selection/_validation.py:372: FitFailedWarning: \n",
            "144 fits failed out of a total of 216.\n",
            "The score on these train-test partitions for these parameters will be set to nan.\n",
            "If these failures are not expected, you can try to debug them by setting error_score='raise'.\n",
            "\n",
            "Below are more details about the failures:\n",
            "--------------------------------------------------------------------------------\n",
            "24 fits failed with the following error:\n",
            "Traceback (most recent call last):\n",
            "  File \"/usr/local/lib/python3.7/dist-packages/sklearn/model_selection/_validation.py\", line 680, in _fit_and_score\n",
            "    estimator.fit(X_train, y_train, **fit_params)\n",
            "  File \"/usr/local/lib/python3.7/dist-packages/sklearn/pipeline.py\", line 394, in fit\n",
            "    self._final_estimator.fit(Xt, y, **fit_params_last_step)\n",
            "  File \"/usr/local/lib/python3.7/dist-packages/sklearn/linear_model/_logistic.py\", line 1461, in fit\n",
            "    solver = _check_solver(self.solver, self.penalty, self.dual)\n",
            "  File \"/usr/local/lib/python3.7/dist-packages/sklearn/linear_model/_logistic.py\", line 449, in _check_solver\n",
            "    % (solver, penalty)\n",
            "ValueError: Solver newton-cg supports only 'l2' or 'none' penalties, got l1 penalty.\n",
            "\n",
            "--------------------------------------------------------------------------------\n",
            "72 fits failed with the following error:\n",
            "Traceback (most recent call last):\n",
            "  File \"/usr/local/lib/python3.7/dist-packages/sklearn/model_selection/_validation.py\", line 680, in _fit_and_score\n",
            "    estimator.fit(X_train, y_train, **fit_params)\n",
            "  File \"/usr/local/lib/python3.7/dist-packages/sklearn/pipeline.py\", line 394, in fit\n",
            "    self._final_estimator.fit(Xt, y, **fit_params_last_step)\n",
            "  File \"/usr/local/lib/python3.7/dist-packages/sklearn/linear_model/_logistic.py\", line 1461, in fit\n",
            "    solver = _check_solver(self.solver, self.penalty, self.dual)\n",
            "  File \"/usr/local/lib/python3.7/dist-packages/sklearn/linear_model/_logistic.py\", line 436, in _check_solver\n",
            "    % (all_solvers, solver)\n",
            "ValueError: Logistic Regression supports only solvers in ['liblinear', 'newton-cg', 'lbfgs', 'sag', 'saga'], got lfbgs.\n",
            "\n",
            "--------------------------------------------------------------------------------\n",
            "24 fits failed with the following error:\n",
            "Traceback (most recent call last):\n",
            "  File \"/usr/local/lib/python3.7/dist-packages/sklearn/model_selection/_validation.py\", line 680, in _fit_and_score\n",
            "    estimator.fit(X_train, y_train, **fit_params)\n",
            "  File \"/usr/local/lib/python3.7/dist-packages/sklearn/pipeline.py\", line 394, in fit\n",
            "    self._final_estimator.fit(Xt, y, **fit_params_last_step)\n",
            "  File \"/usr/local/lib/python3.7/dist-packages/sklearn/linear_model/_logistic.py\", line 1473, in fit\n",
            "    % self.l1_ratio\n",
            "ValueError: l1_ratio must be between 0 and 1; got (l1_ratio=None)\n",
            "\n",
            "--------------------------------------------------------------------------------\n",
            "24 fits failed with the following error:\n",
            "Traceback (most recent call last):\n",
            "  File \"/usr/local/lib/python3.7/dist-packages/sklearn/model_selection/_validation.py\", line 680, in _fit_and_score\n",
            "    estimator.fit(X_train, y_train, **fit_params)\n",
            "  File \"/usr/local/lib/python3.7/dist-packages/sklearn/pipeline.py\", line 394, in fit\n",
            "    self._final_estimator.fit(Xt, y, **fit_params_last_step)\n",
            "  File \"/usr/local/lib/python3.7/dist-packages/sklearn/linear_model/_logistic.py\", line 1461, in fit\n",
            "    solver = _check_solver(self.solver, self.penalty, self.dual)\n",
            "  File \"/usr/local/lib/python3.7/dist-packages/sklearn/linear_model/_logistic.py\", line 449, in _check_solver\n",
            "    % (solver, penalty)\n",
            "ValueError: Solver newton-cg supports only 'l2' or 'none' penalties, got elasticnet penalty.\n",
            "\n",
            "  warnings.warn(some_fits_failed_message, FitFailedWarning)\n",
            "/usr/local/lib/python3.7/dist-packages/sklearn/model_selection/_search.py:972: UserWarning: One or more of the test scores are non-finite: [0.53434364        nan        nan 0.5334444  0.65407288        nan\n",
            "        nan        nan        nan 0.55983775        nan        nan\n",
            " 0.55496033 0.65407288        nan        nan        nan        nan\n",
            " 0.5756678         nan        nan 0.56839448 0.65407288        nan\n",
            "        nan        nan        nan 0.55053079        nan        nan\n",
            " 0.57779943 0.65407288        nan        nan        nan        nan]\n",
            "  category=UserWarning,\n"
          ]
        },
        {
          "output_type": "stream",
          "name": "stdout",
          "text": [
            "0.6540728847863955 0.6483340704130004\n"
          ]
        }
      ],
      "source": [
        "cv = StratifiedKFold(n_splits=6)\n",
        "pipe2 = Pipeline([('scaler', MinMaxScaler()),\n",
        "                ('classifier', LogisticRegression())\n",
        "                ])\n",
        "params2 = {\n",
        "    'classifier__class_weight': [\"balanced\"],\n",
        "    'classifier__solver': ['saga', 'newton-cg','lfbgs'],\n",
        "    'classifier__max_iter': [50, 100, 150,500],\n",
        "    'classifier__multi_class': ['auto'],\n",
        "    'classifier__penalty': ['l1', 'l2','elasticnet']\n",
        "}\n",
        "gridsearch2 = GridSearchCV(pipe2, params2, verbose=0, cv=cv,\n",
        "                          scoring='balanced_accuracy', n_jobs=10).fit(X_train, y_train)\n",
        "print(gridsearch2.best_score_, gridsearch2.score(X_test, y_test))\n"
      ]
    },
    {
      "cell_type": "markdown",
      "metadata": {
        "id": "mAhsirLe4qbM"
      },
      "source": [
        "We see that the confusion matrix performs better for the first class, but worse for the second. Because the metric used looks at the performance on the second class, this model might not be the most interesting."
      ]
    },
    {
      "cell_type": "code",
      "execution_count": null,
      "metadata": {
        "id": "UPPDj5Ih_ZMZ",
        "colab": {
          "base_uri": "https://localhost:8080/",
          "height": 166
        },
        "outputId": "aab82dae-9e66-4d75-dc79-cfad21c4bc0e"
      },
      "outputs": [
        {
          "output_type": "error",
          "ename": "NameError",
          "evalue": "ignored",
          "traceback": [
            "\u001b[0;31m---------------------------------------------------------------------------\u001b[0m",
            "\u001b[0;31mNameError\u001b[0m                                 Traceback (most recent call last)",
            "\u001b[0;32m<ipython-input-13-81e71f87c4aa>\u001b[0m in \u001b[0;36m<module>\u001b[0;34m()\u001b[0m\n\u001b[0;32m----> 1\u001b[0;31m \u001b[0mdf_test\u001b[0m\u001b[0;34m[\u001b[0m\u001b[0;34m'Pred2'\u001b[0m\u001b[0;34m]\u001b[0m \u001b[0;34m=\u001b[0m \u001b[0mgridsearch2\u001b[0m\u001b[0;34m.\u001b[0m\u001b[0mpredict_proba\u001b[0m\u001b[0;34m(\u001b[0m\u001b[0mTestset\u001b[0m\u001b[0;34m)\u001b[0m\u001b[0;34m[\u001b[0m\u001b[0;34m:\u001b[0m\u001b[0;34m,\u001b[0m\u001b[0;36m1\u001b[0m\u001b[0;34m]\u001b[0m\u001b[0;34m\u001b[0m\u001b[0;34m\u001b[0m\u001b[0m\n\u001b[0m",
            "\u001b[0;31mNameError\u001b[0m: name 'Testset' is not defined"
          ]
        }
      ],
      "source": [
        "df_test['Pred2'] = gridsearch2.predict_proba(Testset)[:,1]"
      ]
    },
    {
      "cell_type": "code",
      "source": [
        "Results_1 = df_test[['client_id','Pred1']]\n",
        "Results_2 = df_test[['client_id','Pred2']]"
      ],
      "metadata": {
        "id": "77uR9wOIBV2Z"
      },
      "execution_count": null,
      "outputs": []
    },
    {
      "cell_type": "code",
      "source": [
        "Results_1 = Results_1.rename(columns={'client_id':'ID', 'Pred1':'PROB'})\n",
        "Results_2 = Results_2.rename(columns={'client_id':'ID', 'Pred2':'PROB'})"
      ],
      "metadata": {
        "id": "M6pUblvZQ4Lq"
      },
      "execution_count": null,
      "outputs": []
    },
    {
      "cell_type": "code",
      "source": [
        "Results_1.to_csv('RFC.csv', index=False)\n",
        "Results_2.to_csv('LR.csv', index=False)"
      ],
      "metadata": {
        "id": "N2xQhchBRe8V"
      },
      "execution_count": null,
      "outputs": []
    },
    {
      "cell_type": "code",
      "execution_count": null,
      "metadata": {
        "id": "YFpHHKUR4qbM",
        "colab": {
          "base_uri": "https://localhost:8080/",
          "height": 354
        },
        "outputId": "4c6194e5-d31d-4d53-f33b-011d3373ef73"
      },
      "outputs": [
        {
          "output_type": "execute_result",
          "data": {
            "text/plain": [
              "[Text(0, 0.5, 'False'), Text(0, 1.5, 'True')]"
            ]
          },
          "metadata": {},
          "execution_count": 20
        },
        {
          "output_type": "display_data",
          "data": {
            "text/plain": [
              "<Figure size 432x288 with 2 Axes>"
            ],
            "image/png": "[encoded data removed]"
          },
          "metadata": {
            "needs_background": "light"
          }
        }
      ],
      "source": [
        "pred2 = gridsearch2.predict(X_test)\n",
        "cm2 = confusion_matrix(y_test, pred2)\n",
        "dd2 = [np.sum(cm2[0, :]), np.sum(cm2[1, :])]\n",
        "\n",
        "ax = sns.heatmap([cm2[0,:]/dd2[0], cm2[1,:]/dd2[1]],annot=True,\n",
        "                 fmt='.2%', cmap='Blues')\n",
        "\n",
        "ax.set_title('Seaborn Confusion Matrix with labels\\n\\n')\n",
        "ax.set_xlabel('\\nPredicted Values')\n",
        "ax.set_ylabel('Actual Values ')\n",
        "\n",
        "## Ticket labels - List must be in alphabetical order\n",
        "ax.xaxis.set_ticklabels(['False', 'True'])\n",
        "ax.yaxis.set_ticklabels(['False', 'True'])\n"
      ]
    },
    {
      "cell_type": "markdown",
      "metadata": {
        "id": "9hgeAPyc4qbM"
      },
      "source": [
        "Finally,  the final model we consider is the linear SVC."
      ]
    },
    {
      "cell_type": "code",
      "execution_count": null,
      "metadata": {
        "id": "UWetaTCH4qbM"
      },
      "outputs": [],
      "source": [
        "cv = StratifiedKFold(n_splits=6)\n",
        "pipeSVM = Pipeline([('scaler', MinMaxScaler()),\n",
        "                ('classifier', LinearSVC(random_state=23))\n",
        "                ])\n",
        "params2 = {\n",
        "    'classifier__class_weight': [\"balanced\"],\n",
        "    'classifier__max_iter': [50, 100, 150,500],\n",
        "    'classifier__multi_class': ['ovr','crammer_singer'],\n",
        "    'classifier__penalty': ['l1', 'l2']\n",
        "}\n",
        "gridsearchSVM = GridSearchCV(pipeSVM, params2, verbose=0, cv=cv,\n",
        "                          scoring='balanced_accuracy', n_jobs=10).fit(X_train, y_train)\n",
        "print(gridsearchSVM.best_score_, gridsearchSVM.score(X_test, y_test))"
      ]
    },
    {
      "cell_type": "markdown",
      "metadata": {
        "id": "1A3ffcvt4qbN"
      },
      "source": [
        "The model seems to perform quite well on the second class, but terribly on the first class."
      ]
    },
    {
      "cell_type": "code",
      "execution_count": null,
      "metadata": {
        "id": "mcTeiv_n_dMO"
      },
      "outputs": [],
      "source": [
        "df_test['SVM1']= gridsearchSVM.predict_proba(Testset)[:,1]"
      ]
    },
    {
      "cell_type": "code",
      "execution_count": null,
      "metadata": {
        "id": "AEdbWuz84qbN"
      },
      "outputs": [],
      "source": [
        "predSVM = gridsearchSVM.predict(X_test)\n",
        "cmSVM = confusion_matrix(y_test, predSVM)\n",
        "ddSVM = [np.sum(cmSVM[0, :]), np.sum(cmSVM[1, :])]\n",
        "\n",
        "ax = sns.heatmap([cmSVM[0,:]/ddSVM[0], cmSVM[1,:]/ddSVM[1]],annot=True,\n",
        "                 fmt='.2%', cmap='Blues')\n",
        "\n",
        "ax.set_title('Seaborn Confusion Matrix with labels\\n\\n')\n",
        "ax.set_xlabel('\\nPredicted Values')\n",
        "ax.set_ylabel('Actual Values ')\n",
        "\n",
        "## Ticket labels - List must be in alphabetical order\n",
        "ax.xaxis.set_ticklabels(['False', 'True'])\n",
        "ax.yaxis.set_ticklabels(['False', 'True'])\n"
      ]
    },
    {
      "cell_type": "markdown",
      "metadata": {
        "id": "4U-jRw5k4qbN"
      },
      "source": [
        "<h1> <u> Seq model</u></h1>\n",
        "\n",
        "This part heavily resembles the previous part, but now we use another variable set. Here, we use the seq variables defined in the other notebook. This will lead to more precise information regarding the time series of the variables, at the cost of a larger amount of variables."
      ]
    },
    {
      "cell_type": "code",
      "execution_count": null,
      "metadata": {
        "id": "WiZwTZWL4qbN",
        "colab": {
          "base_uri": "https://localhost:8080/",
          "height": 487
        },
        "outputId": "fb64fdac-2e2b-49fa-d69a-0efa08f5c008"
      },
      "outputs": [
        {
          "output_type": "execute_result",
          "data": {
            "text/plain": [
              "       homebanking_active_seq_0  homebanking_active_seq_1  \\\n",
              "0                             1                         0   \n",
              "1                             0                         0   \n",
              "2                             0                         0   \n",
              "3                             1                         0   \n",
              "4                             1                         0   \n",
              "...                         ...                       ...   \n",
              "63692                         0                         0   \n",
              "63693                         1                         0   \n",
              "63694                         1                         0   \n",
              "63695                         1                         0   \n",
              "63696                         0                         0   \n",
              "\n",
              "       homebanking_active_seq_10  homebanking_active_seq_11  \\\n",
              "0                              0                          0   \n",
              "1                              0                          0   \n",
              "2                              0                          0   \n",
              "3                              0                          0   \n",
              "4                              0                          0   \n",
              "...                          ...                        ...   \n",
              "63692                          0                          0   \n",
              "63693                          0                          0   \n",
              "63694                          0                          0   \n",
              "63695                          0                          0   \n",
              "63696                          0                          0   \n",
              "\n",
              "       homebanking_active_seq_100  homebanking_active_seq_101  \\\n",
              "0                               0                           0   \n",
              "1                               0                           0   \n",
              "2                               0                           0   \n",
              "3                               0                           0   \n",
              "4                               0                           0   \n",
              "...                           ...                         ...   \n",
              "63692                           0                           0   \n",
              "63693                           0                           0   \n",
              "63694                           0                           0   \n",
              "63695                           0                           0   \n",
              "63696                           0                           0   \n",
              "\n",
              "       homebanking_active_seq_110  homebanking_active_seq_111  \\\n",
              "0                               0                           0   \n",
              "1                               0                           1   \n",
              "2                               0                           1   \n",
              "3                               0                           0   \n",
              "4                               0                           0   \n",
              "...                           ...                         ...   \n",
              "63692                           0                           1   \n",
              "63693                           0                           0   \n",
              "63694                           0                           0   \n",
              "63695                           0                           0   \n",
              "63696                           0                           1   \n",
              "\n",
              "       has_homebanking_seq_0  has_homebanking_seq_1  ...  loan_seq_110  \\\n",
              "0                          1                      0  ...             0   \n",
              "1                          0                      0  ...             0   \n",
              "2                          0                      0  ...             0   \n",
              "3                          1                      0  ...             0   \n",
              "4                          1                      0  ...             0   \n",
              "...                      ...                    ...  ...           ...   \n",
              "63692                      0                      0  ...             0   \n",
              "63693                      1                      0  ...             0   \n",
              "63694                      0                      0  ...             0   \n",
              "63695                      1                      0  ...             0   \n",
              "63696                      0                      0  ...             0   \n",
              "\n",
              "       loan_seq_111  has_account_seq_111  customer_self_employed_seq_0  \\\n",
              "0                 1                    1                             1   \n",
              "1                 1                    1                             1   \n",
              "2                 1                    1                             1   \n",
              "3                 0                    1                             1   \n",
              "4                 0                    1                             1   \n",
              "...             ...                  ...                           ...   \n",
              "63692             1                    1                             1   \n",
              "63693             1                    1                             1   \n",
              "63694             1                    1                             1   \n",
              "63695             0                    1                             1   \n",
              "63696             1                    1                             1   \n",
              "\n",
              "       customer_self_employed_seq_1  customer_self_employed_seq_11  \\\n",
              "0                                 0                              0   \n",
              "1                                 0                              0   \n",
              "2                                 0                              0   \n",
              "3                                 0                              0   \n",
              "4                                 0                              0   \n",
              "...                             ...                            ...   \n",
              "63692                             0                              0   \n",
              "63693                             0                              0   \n",
              "63694                             0                              0   \n",
              "63695                             0                              0   \n",
              "63696                             0                              0   \n",
              "\n",
              "       customer_self_employed_seq_100  customer_self_employed_seq_101  \\\n",
              "0                                   0                               0   \n",
              "1                                   0                               0   \n",
              "2                                   0                               0   \n",
              "3                                   0                               0   \n",
              "4                                   0                               0   \n",
              "...                               ...                             ...   \n",
              "63692                               0                               0   \n",
              "63693                               0                               0   \n",
              "63694                               0                               0   \n",
              "63695                               0                               0   \n",
              "63696                               0                               0   \n",
              "\n",
              "       customer_self_employed_seq_110  customer_self_employed_seq_111  \n",
              "0                                   0                               0  \n",
              "1                                   0                               0  \n",
              "2                                   0                               0  \n",
              "3                                   0                               0  \n",
              "4                                   0                               0  \n",
              "...                               ...                             ...  \n",
              "63692                               0                               0  \n",
              "63693                               0                               0  \n",
              "63694                               0                               0  \n",
              "63695                               0                               0  \n",
              "63696                               0                               0  \n",
              "\n",
              "[63697 rows x 116 columns]"
            ],
            "text/html": [
              "\n",
              "  <div id=\"df-8aea117f-9150-4262-928a-418092d7cb3d\">\n",
              "    <div class=\"colab-df-container\">\n",
              "      <div>\n",
              "<style scoped>\n",
              "    .dataframe tbody tr th:only-of-type {\n",
              "        vertical-align: middle;\n",
              "    }\n",
              "\n",
              "    .dataframe tbody tr th {\n",
              "        vertical-align: top;\n",
              "    }\n",
              "\n",
              "    .dataframe thead th {\n",
              "        text-align: right;\n",
              "    }\n",
              "</style>\n",
              "<table border=\"1\" class=\"dataframe\">\n",
              "  <thead>\n",
              "    <tr style=\"text-align: right;\">\n",
              "      <th></th>\n",
              "      <th>homebanking_active_seq_0</th>\n",
              "      <th>homebanking_active_seq_1</th>\n",
              "      <th>homebanking_active_seq_10</th>\n",
              "      <th>homebanking_active_seq_11</th>\n",
              "      <th>homebanking_active_seq_100</th>\n",
              "      <th>homebanking_active_seq_101</th>\n",
              "      <th>homebanking_active_seq_110</th>\n",
              "      <th>homebanking_active_seq_111</th>\n",
              "      <th>has_homebanking_seq_0</th>\n",
              "      <th>has_homebanking_seq_1</th>\n",
              "      <th>...</th>\n",
              "      <th>loan_seq_110</th>\n",
              "      <th>loan_seq_111</th>\n",
              "      <th>has_account_seq_111</th>\n",
              "      <th>customer_self_employed_seq_0</th>\n",
              "      <th>customer_self_employed_seq_1</th>\n",
              "      <th>customer_self_employed_seq_11</th>\n",
              "      <th>customer_self_employed_seq_100</th>\n",
              "      <th>customer_self_employed_seq_101</th>\n",
              "      <th>customer_self_employed_seq_110</th>\n",
              "      <th>customer_self_employed_seq_111</th>\n",
              "    </tr>\n",
              "  </thead>\n",
              "  <tbody>\n",
              "    <tr>\n",
              "      <th>0</th>\n",
              "      <td>1</td>\n",
              "      <td>0</td>\n",
              "      <td>0</td>\n",
              "      <td>0</td>\n",
              "      <td>0</td>\n",
              "      <td>0</td>\n",
              "      <td>0</td>\n",
              "      <td>0</td>\n",
              "      <td>1</td>\n",
              "      <td>0</td>\n",
              "      <td>...</td>\n",
              "      <td>0</td>\n",
              "      <td>1</td>\n",
              "      <td>1</td>\n",
              "      <td>1</td>\n",
              "      <td>0</td>\n",
              "      <td>0</td>\n",
              "      <td>0</td>\n",
              "      <td>0</td>\n",
              "      <td>0</td>\n",
              "      <td>0</td>\n",
              "    </tr>\n",
              "    <tr>\n",
              "      <th>1</th>\n",
              "      <td>0</td>\n",
              "      <td>0</td>\n",
              "      <td>0</td>\n",
              "      <td>0</td>\n",
              "      <td>0</td>\n",
              "      <td>0</td>\n",
              "      <td>0</td>\n",
              "      <td>1</td>\n",
              "      <td>0</td>\n",
              "      <td>0</td>\n",
              "      <td>...</td>\n",
              "      <td>0</td>\n",
              "      <td>1</td>\n",
              "      <td>1</td>\n",
              "      <td>1</td>\n",
              "      <td>0</td>\n",
              "      <td>0</td>\n",
              "      <td>0</td>\n",
              "      <td>0</td>\n",
              "      <td>0</td>\n",
              "      <td>0</td>\n",
              "    </tr>\n",
              "    <tr>\n",
              "      <th>2</th>\n",
              "      <td>0</td>\n",
              "      <td>0</td>\n",
              "      <td>0</td>\n",
              "      <td>0</td>\n",
              "      <td>0</td>\n",
              "      <td>0</td>\n",
              "      <td>0</td>\n",
              "      <td>1</td>\n",
              "      <td>0</td>\n",
              "      <td>0</td>\n",
              "      <td>...</td>\n",
              "      <td>0</td>\n",
              "      <td>1</td>\n",
              "      <td>1</td>\n",
              "      <td>1</td>\n",
              "      <td>0</td>\n",
              "      <td>0</td>\n",
              "      <td>0</td>\n",
              "      <td>0</td>\n",
              "      <td>0</td>\n",
              "      <td>0</td>\n",
              "    </tr>\n",
              "    <tr>\n",
              "      <th>3</th>\n",
              "      <td>1</td>\n",
              "      <td>0</td>\n",
              "      <td>0</td>\n",
              "      <td>0</td>\n",
              "      <td>0</td>\n",
              "      <td>0</td>\n",
              "      <td>0</td>\n",
              "      <td>0</td>\n",
              "      <td>1</td>\n",
              "      <td>0</td>\n",
              "      <td>...</td>\n",
              "      <td>0</td>\n",
              "      <td>0</td>\n",
              "      <td>1</td>\n",
              "      <td>1</td>\n",
              "      <td>0</td>\n",
              "      <td>0</td>\n",
              "      <td>0</td>\n",
              "      <td>0</td>\n",
              "      <td>0</td>\n",
              "      <td>0</td>\n",
              "    </tr>\n",
              "    <tr>\n",
              "      <th>4</th>\n",
              "      <td>1</td>\n",
              "      <td>0</td>\n",
              "      <td>0</td>\n",
              "      <td>0</td>\n",
              "      <td>0</td>\n",
              "      <td>0</td>\n",
              "      <td>0</td>\n",
              "      <td>0</td>\n",
              "      <td>1</td>\n",
              "      <td>0</td>\n",
              "      <td>...</td>\n",
              "      <td>0</td>\n",
              "      <td>0</td>\n",
              "      <td>1</td>\n",
              "      <td>1</td>\n",
              "      <td>0</td>\n",
              "      <td>0</td>\n",
              "      <td>0</td>\n",
              "      <td>0</td>\n",
              "      <td>0</td>\n",
              "      <td>0</td>\n",
              "    </tr>\n",
              "    <tr>\n",
              "      <th>...</th>\n",
              "      <td>...</td>\n",
              "      <td>...</td>\n",
              "      <td>...</td>\n",
              "      <td>...</td>\n",
              "      <td>...</td>\n",
              "      <td>...</td>\n",
              "      <td>...</td>\n",
              "      <td>...</td>\n",
              "      <td>...</td>\n",
              "      <td>...</td>\n",
              "      <td>...</td>\n",
              "      <td>...</td>\n",
              "      <td>...</td>\n",
              "      <td>...</td>\n",
              "      <td>...</td>\n",
              "      <td>...</td>\n",
              "      <td>...</td>\n",
              "      <td>...</td>\n",
              "      <td>...</td>\n",
              "      <td>...</td>\n",
              "      <td>...</td>\n",
              "    </tr>\n",
              "    <tr>\n",
              "      <th>63692</th>\n",
              "      <td>0</td>\n",
              "      <td>0</td>\n",
              "      <td>0</td>\n",
              "      <td>0</td>\n",
              "      <td>0</td>\n",
              "      <td>0</td>\n",
              "      <td>0</td>\n",
              "      <td>1</td>\n",
              "      <td>0</td>\n",
              "      <td>0</td>\n",
              "      <td>...</td>\n",
              "      <td>0</td>\n",
              "      <td>1</td>\n",
              "      <td>1</td>\n",
              "      <td>1</td>\n",
              "      <td>0</td>\n",
              "      <td>0</td>\n",
              "      <td>0</td>\n",
              "      <td>0</td>\n",
              "      <td>0</td>\n",
              "      <td>0</td>\n",
              "    </tr>\n",
              "    <tr>\n",
              "      <th>63693</th>\n",
              "      <td>1</td>\n",
              "      <td>0</td>\n",
              "      <td>0</td>\n",
              "      <td>0</td>\n",
              "      <td>0</td>\n",
              "      <td>0</td>\n",
              "      <td>0</td>\n",
              "      <td>0</td>\n",
              "      <td>1</td>\n",
              "      <td>0</td>\n",
              "      <td>...</td>\n",
              "      <td>0</td>\n",
              "      <td>1</td>\n",
              "      <td>1</td>\n",
              "      <td>1</td>\n",
              "      <td>0</td>\n",
              "      <td>0</td>\n",
              "      <td>0</td>\n",
              "      <td>0</td>\n",
              "      <td>0</td>\n",
              "      <td>0</td>\n",
              "    </tr>\n",
              "    <tr>\n",
              "      <th>63694</th>\n",
              "      <td>1</td>\n",
              "      <td>0</td>\n",
              "      <td>0</td>\n",
              "      <td>0</td>\n",
              "      <td>0</td>\n",
              "      <td>0</td>\n",
              "      <td>0</td>\n",
              "      <td>0</td>\n",
              "      <td>0</td>\n",
              "      <td>0</td>\n",
              "      <td>...</td>\n",
              "      <td>0</td>\n",
              "      <td>1</td>\n",
              "      <td>1</td>\n",
              "      <td>1</td>\n",
              "      <td>0</td>\n",
              "      <td>0</td>\n",
              "      <td>0</td>\n",
              "      <td>0</td>\n",
              "      <td>0</td>\n",
              "      <td>0</td>\n",
              "    </tr>\n",
              "    <tr>\n",
              "      <th>63695</th>\n",
              "      <td>1</td>\n",
              "      <td>0</td>\n",
              "      <td>0</td>\n",
              "      <td>0</td>\n",
              "      <td>0</td>\n",
              "      <td>0</td>\n",
              "      <td>0</td>\n",
              "      <td>0</td>\n",
              "      <td>1</td>\n",
              "      <td>0</td>\n",
              "      <td>...</td>\n",
              "      <td>0</td>\n",
              "      <td>0</td>\n",
              "      <td>1</td>\n",
              "      <td>1</td>\n",
              "      <td>0</td>\n",
              "      <td>0</td>\n",
              "      <td>0</td>\n",
              "      <td>0</td>\n",
              "      <td>0</td>\n",
              "      <td>0</td>\n",
              "    </tr>\n",
              "    <tr>\n",
              "      <th>63696</th>\n",
              "      <td>0</td>\n",
              "      <td>0</td>\n",
              "      <td>0</td>\n",
              "      <td>0</td>\n",
              "      <td>0</td>\n",
              "      <td>0</td>\n",
              "      <td>0</td>\n",
              "      <td>1</td>\n",
              "      <td>0</td>\n",
              "      <td>0</td>\n",
              "      <td>...</td>\n",
              "      <td>0</td>\n",
              "      <td>1</td>\n",
              "      <td>1</td>\n",
              "      <td>1</td>\n",
              "      <td>0</td>\n",
              "      <td>0</td>\n",
              "      <td>0</td>\n",
              "      <td>0</td>\n",
              "      <td>0</td>\n",
              "      <td>0</td>\n",
              "    </tr>\n",
              "  </tbody>\n",
              "</table>\n",
              "<p>63697 rows × 116 columns</p>\n",
              "</div>\n",
              "      <button class=\"colab-df-convert\" onclick=\"convertToInteractive('df-8aea117f-9150-4262-928a-418092d7cb3d')\"\n",
              "              title=\"Convert this dataframe to an interactive table.\"\n",
              "              style=\"display:none;\">\n",
              "        \n",
              "  <svg xmlns=\"http://www.w3.org/2000/svg\" height=\"24px\"viewBox=\"0 0 24 24\"\n",
              "       width=\"24px\">\n",
              "    <path d=\"M0 0h24v24H0V0z\" fill=\"none\"/>\n",
              "    <path d=\"M18.56 5.44l.94 2.06.94-2.06 2.06-.94-2.06-.94-.94-2.06-.94 2.06-2.06.94zm-11 1L8.5 8.5l.94-2.06 2.06-.94-2.06-.94L8.5 2.5l-.94 2.06-2.06.94zm10 10l.94 2.06.94-2.06 2.06-.94-2.06-.94-.94-2.06-.94 2.06-2.06.94z\"/><path d=\"M17.41 7.96l-1.37-1.37c-.4-.4-.92-.59-1.43-.59-.52 0-1.04.2-1.43.59L10.3 9.45l-7.72 7.72c-.78.78-.78 2.05 0 2.83L4 21.41c.39.39.9.59 1.41.59.51 0 1.02-.2 1.41-.59l7.78-7.78 2.81-2.81c.8-.78.8-2.07 0-2.86zM5.41 20L4 18.59l7.72-7.72 1.47 1.35L5.41 20z\"/>\n",
              "  </svg>\n",
              "      </button>\n",
              "      \n",
              "  <style>\n",
              "    .colab-df-container {\n",
              "      display:flex;\n",
              "      flex-wrap:wrap;\n",
              "      gap: 12px;\n",
              "    }\n",
              "\n",
              "    .colab-df-convert {\n",
              "      background-color: #E8F0FE;\n",
              "      border: none;\n",
              "      border-radius: 50%;\n",
              "      cursor: pointer;\n",
              "      display: none;\n",
              "      fill: #1967D2;\n",
              "      height: 32px;\n",
              "      padding: 0 0 0 0;\n",
              "      width: 32px;\n",
              "    }\n",
              "\n",
              "    .colab-df-convert:hover {\n",
              "      background-color: #E2EBFA;\n",
              "      box-shadow: 0px 1px 2px rgba(60, 64, 67, 0.3), 0px 1px 3px 1px rgba(60, 64, 67, 0.15);\n",
              "      fill: #174EA6;\n",
              "    }\n",
              "\n",
              "    [theme=dark] .colab-df-convert {\n",
              "      background-color: #3B4455;\n",
              "      fill: #D2E3FC;\n",
              "    }\n",
              "\n",
              "    [theme=dark] .colab-df-convert:hover {\n",
              "      background-color: #434B5C;\n",
              "      box-shadow: 0px 1px 3px 1px rgba(0, 0, 0, 0.15);\n",
              "      filter: drop-shadow(0px 1px 2px rgba(0, 0, 0, 0.3));\n",
              "      fill: #FFFFFF;\n",
              "    }\n",
              "  </style>\n",
              "\n",
              "      <script>\n",
              "        const buttonEl =\n",
              "          document.querySelector('#df-8aea117f-9150-4262-928a-418092d7cb3d button.colab-df-convert');\n",
              "        buttonEl.style.display =\n",
              "          google.colab.kernel.accessAllowed ? 'block' : 'none';\n",
              "\n",
              "        async function convertToInteractive(key) {\n",
              "          const element = document.querySelector('#df-8aea117f-9150-4262-928a-418092d7cb3d');\n",
              "          const dataTable =\n",
              "            await google.colab.kernel.invokeFunction('convertToInteractive',\n",
              "                                                     [key], {});\n",
              "          if (!dataTable) return;\n",
              "\n",
              "          const docLinkHtml = 'Like what you see? Visit the ' +\n",
              "            '<a target=\"_blank\" href=https://colab.research.google.com/notebooks/data_table.ipynb>data table notebook</a>'\n",
              "            + ' to learn more about interactive tables.';\n",
              "          element.innerHTML = '';\n",
              "          dataTable['output_type'] = 'display_data';\n",
              "          await google.colab.output.renderOutput(dataTable, element);\n",
              "          const docLink = document.createElement('div');\n",
              "          docLink.innerHTML = docLinkHtml;\n",
              "          element.appendChild(docLink);\n",
              "        }\n",
              "      </script>\n",
              "    </div>\n",
              "  </div>\n",
              "  "
            ]
          },
          "metadata": {},
          "execution_count": 5
        }
      ],
      "source": [
        "Cat_var2 = list(['homebanking_active_seq',\n",
        "               'has_homebanking_seq',\n",
        "               'has_insurance_21_seq',\n",
        "               'has_insurance_23_seq',\n",
        "               'has_life_insurance_fixed_cap_seq',\n",
        "               'has_life_insurance_decreasing_cap_seq',\n",
        "               'has_fire_car_other_insurance_seq',\n",
        "               'has_personal_loan_seq',\n",
        "               'has_mortgage_loan_seq',\n",
        "               'has_current_account_seq',\n",
        "               'has_pension_saving_seq',\n",
        "               'has_savings_account_seq',\n",
        "               'has_current_account_starter_seq',\n",
        "               'gender',\n",
        "               \"customer_relationship_cat\",\n",
        "               'customer_children_cat',\n",
        "               'insurance_seq',\n",
        "               'savings_seq',\n",
        "               'loan_seq',\n",
        "               'has_account_seq', 'customer_self_employed_seq']\n",
        "               )\n",
        "dummies2 = pd.get_dummies(df[Cat_var2].astype('O'))\n",
        "dummies2"
      ]
    },
    {
      "cell_type": "code",
      "execution_count": null,
      "metadata": {
        "id": "2Mwxuzno4qbN",
        "colab": {
          "base_uri": "https://localhost:8080/",
          "height": 166
        },
        "outputId": "a74d14a1-8775-496e-b1fb-cad0437d2782"
      },
      "outputs": [
        {
          "output_type": "error",
          "ename": "NameError",
          "evalue": "ignored",
          "traceback": [
            "\u001b[0;31m---------------------------------------------------------------------------\u001b[0m",
            "\u001b[0;31mNameError\u001b[0m                                 Traceback (most recent call last)",
            "\u001b[0;32m<ipython-input-6-fb0db73d858f>\u001b[0m in \u001b[0;36m<module>\u001b[0;34m()\u001b[0m\n\u001b[0;32m----> 1\u001b[0;31m \u001b[0mX2\u001b[0m \u001b[0;34m=\u001b[0m \u001b[0mpd\u001b[0m\u001b[0;34m.\u001b[0m\u001b[0mconcat\u001b[0m\u001b[0;34m(\u001b[0m\u001b[0;34m(\u001b[0m\u001b[0mcts\u001b[0m\u001b[0;34m,\u001b[0m\u001b[0mdummies2\u001b[0m\u001b[0;34m)\u001b[0m\u001b[0;34m,\u001b[0m\u001b[0maxis\u001b[0m\u001b[0;34m=\u001b[0m\u001b[0;36m1\u001b[0m\u001b[0;34m)\u001b[0m\u001b[0;34m\u001b[0m\u001b[0;34m\u001b[0m\u001b[0m\n\u001b[0m",
            "\u001b[0;31mNameError\u001b[0m: name 'cts' is not defined"
          ]
        }
      ],
      "source": [
        "X2 = pd.concat((cts,dummies2),axis=1)"
      ]
    },
    {
      "cell_type": "code",
      "execution_count": null,
      "metadata": {
        "id": "Zwe7JtZT_hDo"
      },
      "outputs": [],
      "source": [
        "dummies_test2 = pd.get_dummies(df_test[Cat_var2].astype('O'))\n",
        "cts_test = df_test[Cont_var]\n",
        "Testset2 = pd.concat((cts_test,dummies_test2),axis=1)"
      ]
    },
    {
      "cell_type": "markdown",
      "source": [
        "As Abraham mentioned, there will be an issue when training. The reason for this lies in the fact that certain sequences (such as eg. 1 0 1) can appear in the traning set but not in the test set. However, each (observed) sequence gives rise to a variable, and hence if one of the sequences is not present the variable will also not be present. "
      ],
      "metadata": {
        "id": "w_JAshTQnLKO"
      }
    },
    {
      "cell_type": "code",
      "source": [
        "print('The length of the training set is ' + str(len(list(X2))) + ' whilst the length of the test set is ' + str(len(list(Testset2))))"
      ],
      "metadata": {
        "colab": {
          "base_uri": "https://localhost:8080/"
        },
        "id": "JWiNGPt_m7ao",
        "outputId": "a74627d4-2cd3-4c3e-e42e-cdaf4a158514"
      },
      "execution_count": null,
      "outputs": [
        {
          "output_type": "stream",
          "name": "stdout",
          "text": [
            "The lenght of the training set is 131 whilst the length of the test set is 128\n"
          ]
        }
      ]
    },
    {
      "cell_type": "markdown",
      "source": [
        "The code below basically takes adds the missing columns to both sets."
      ],
      "metadata": {
        "id": "oP7T-WF5ocPF"
      }
    },
    {
      "cell_type": "code",
      "source": [
        "X2,Testset2 = X2.align(Testset2, join='outer', axis=1, fill_value=0)\n",
        "print('The length of the training set is now ' + str(len(list(X2))) + ' and the length of the test set is ' + str(len(list(Testset2))))\n"
      ],
      "metadata": {
        "colab": {
          "base_uri": "https://localhost:8080/"
        },
        "id": "v1Eck1cNoAQt",
        "outputId": "5ebe28d6-52df-4fb3-a00c-ab7ee61d1d3f"
      },
      "execution_count": null,
      "outputs": [
        {
          "output_type": "stream",
          "name": "stdout",
          "text": [
            "The length of the training set is now 134 and the length of the test set is 134\n"
          ]
        }
      ]
    },
    {
      "cell_type": "code",
      "execution_count": null,
      "metadata": {
        "id": "0Muy2_7-4qbO"
      },
      "outputs": [],
      "source": [
        "X_train2, X_test2, y_train2, y_test2 = train_test_split(X2, y, test_size = 0.33, stratify=y, random_state=23)"
      ]
    },
    {
      "cell_type": "code",
      "execution_count": null,
      "metadata": {
        "id": "XJqcOb3a4qbO",
        "colab": {
          "base_uri": "https://localhost:8080/"
        },
        "outputId": "6c67509b-9506-42db-e05c-8c85003a836f"
      },
      "outputs": [
        {
          "output_type": "stream",
          "name": "stdout",
          "text": [
            "0.6762978569245625 0.6739604650674758\n"
          ]
        }
      ],
      "source": [
        "cv = StratifiedKFold(n_splits=6)\n",
        "pipe3 = Pipeline([('scaler', StandardScaler()),\n",
        "                ('classifier', RandomForestClassifier(random_state=23))\n",
        "                 ])\n",
        "params3 = {\n",
        "    \"classifier__class_weight\": [\"balanced\"],\n",
        "    \"classifier__max_depth\": np.arange(1, 9),\n",
        "    \"classifier__n_estimators\": [50, 150, 250],\n",
        "    \"classifier__max_features\": [None, \"log2\"]\n",
        "}\n",
        "gridsearch3 = GridSearchCV(pipe3, params3, verbose=0, cv=cv,\n",
        "                          scoring='balanced_accuracy', n_jobs=10).fit(X_train2, y_train2)\n",
        "print(gridsearch3.best_score_, gridsearch3.score(X_test2, y_test2))\n"
      ]
    },
    {
      "cell_type": "code",
      "execution_count": null,
      "metadata": {
        "id": "MeKPjQna_wPG",
        "colab": {
          "base_uri": "https://localhost:8080/"
        },
        "outputId": "be9361dd-7c80-41b3-bec4-7c0c8f0aea51"
      },
      "outputs": [
        {
          "output_type": "execute_result",
          "data": {
            "text/plain": [
              "array([0.6423118 , 0.40469049, 0.63790944, ..., 0.27388378, 0.53045139,\n",
              "       0.29328789])"
            ]
          },
          "metadata": {},
          "execution_count": 30
        }
      ],
      "source": [
        "gridsearch3.predict_proba(Testset2)[:,1]"
      ]
    },
    {
      "cell_type": "code",
      "execution_count": null,
      "metadata": {
        "id": "rUparLfr4qbO",
        "colab": {
          "base_uri": "https://localhost:8080/",
          "height": 355
        },
        "outputId": "4095e8cd-fcf1-4b8d-f004-3be18c7a6f41"
      },
      "outputs": [
        {
          "output_type": "execute_result",
          "data": {
            "text/plain": [
              "[Text(0, 0.5, 'False'), Text(0, 1.5, 'True')]"
            ]
          },
          "metadata": {},
          "execution_count": 31
        },
        {
          "output_type": "display_data",
          "data": {
            "text/plain": [
              "<Figure size 432x288 with 2 Axes>"
            ],
            "image/png": "[encoded data removed]"
          },
          "metadata": {
            "needs_background": "light"
          }
        }
      ],
      "source": [
        "pred3 = gridsearch3.predict(X_test2)\n",
        "cm3 = confusion_matrix(y_test2, pred3)\n",
        "dd3 = [np.sum(cm3[0, :]), np.sum(cm3[1, :])]\n",
        "\n",
        "ax = sns.heatmap([cm3[0,:]/dd3[0], cm3[1,:]/dd3[1]],annot=True,\n",
        "                 fmt='.2%', cmap='Blues')\n",
        "\n",
        "ax.set_title('Seaborn Confusion Matrix with labels\\n\\n')\n",
        "ax.set_xlabel('\\nPredicted Values')\n",
        "ax.set_ylabel('Actual Values ')\n",
        "\n",
        "## Ticket labels - List must be in alphabetical order\n",
        "ax.xaxis.set_ticklabels(['False', 'True'])\n",
        "ax.yaxis.set_ticklabels(['False', 'True'])\n"
      ]
    },
    {
      "cell_type": "code",
      "execution_count": null,
      "metadata": {
        "id": "Rc8Fjueo4qbO",
        "colab": {
          "base_uri": "https://localhost:8080/"
        },
        "outputId": "fc4112bf-3a4e-4487-e225-69d8095c9a19"
      },
      "outputs": [
        {
          "output_type": "stream",
          "name": "stderr",
          "text": [
            "/usr/local/lib/python3.7/dist-packages/sklearn/model_selection/_validation.py:372: FitFailedWarning: \n",
            "144 fits failed out of a total of 216.\n",
            "The score on these train-test partitions for these parameters will be set to nan.\n",
            "If these failures are not expected, you can try to debug them by setting error_score='raise'.\n",
            "\n",
            "Below are more details about the failures:\n",
            "--------------------------------------------------------------------------------\n",
            "24 fits failed with the following error:\n",
            "Traceback (most recent call last):\n",
            "  File \"/usr/local/lib/python3.7/dist-packages/sklearn/model_selection/_validation.py\", line 680, in _fit_and_score\n",
            "    estimator.fit(X_train, y_train, **fit_params)\n",
            "  File \"/usr/local/lib/python3.7/dist-packages/sklearn/pipeline.py\", line 394, in fit\n",
            "    self._final_estimator.fit(Xt, y, **fit_params_last_step)\n",
            "  File \"/usr/local/lib/python3.7/dist-packages/sklearn/linear_model/_logistic.py\", line 1461, in fit\n",
            "    solver = _check_solver(self.solver, self.penalty, self.dual)\n",
            "  File \"/usr/local/lib/python3.7/dist-packages/sklearn/linear_model/_logistic.py\", line 449, in _check_solver\n",
            "    % (solver, penalty)\n",
            "ValueError: Solver newton-cg supports only 'l2' or 'none' penalties, got l1 penalty.\n",
            "\n",
            "--------------------------------------------------------------------------------\n",
            "72 fits failed with the following error:\n",
            "Traceback (most recent call last):\n",
            "  File \"/usr/local/lib/python3.7/dist-packages/sklearn/model_selection/_validation.py\", line 680, in _fit_and_score\n",
            "    estimator.fit(X_train, y_train, **fit_params)\n",
            "  File \"/usr/local/lib/python3.7/dist-packages/sklearn/pipeline.py\", line 394, in fit\n",
            "    self._final_estimator.fit(Xt, y, **fit_params_last_step)\n",
            "  File \"/usr/local/lib/python3.7/dist-packages/sklearn/linear_model/_logistic.py\", line 1461, in fit\n",
            "    solver = _check_solver(self.solver, self.penalty, self.dual)\n",
            "  File \"/usr/local/lib/python3.7/dist-packages/sklearn/linear_model/_logistic.py\", line 436, in _check_solver\n",
            "    % (all_solvers, solver)\n",
            "ValueError: Logistic Regression supports only solvers in ['liblinear', 'newton-cg', 'lbfgs', 'sag', 'saga'], got lfbgs.\n",
            "\n",
            "--------------------------------------------------------------------------------\n",
            "24 fits failed with the following error:\n",
            "Traceback (most recent call last):\n",
            "  File \"/usr/local/lib/python3.7/dist-packages/sklearn/model_selection/_validation.py\", line 680, in _fit_and_score\n",
            "    estimator.fit(X_train, y_train, **fit_params)\n",
            "  File \"/usr/local/lib/python3.7/dist-packages/sklearn/pipeline.py\", line 394, in fit\n",
            "    self._final_estimator.fit(Xt, y, **fit_params_last_step)\n",
            "  File \"/usr/local/lib/python3.7/dist-packages/sklearn/linear_model/_logistic.py\", line 1473, in fit\n",
            "    % self.l1_ratio\n",
            "ValueError: l1_ratio must be between 0 and 1; got (l1_ratio=None)\n",
            "\n",
            "--------------------------------------------------------------------------------\n",
            "24 fits failed with the following error:\n",
            "Traceback (most recent call last):\n",
            "  File \"/usr/local/lib/python3.7/dist-packages/sklearn/model_selection/_validation.py\", line 680, in _fit_and_score\n",
            "    estimator.fit(X_train, y_train, **fit_params)\n",
            "  File \"/usr/local/lib/python3.7/dist-packages/sklearn/pipeline.py\", line 394, in fit\n",
            "    self._final_estimator.fit(Xt, y, **fit_params_last_step)\n",
            "  File \"/usr/local/lib/python3.7/dist-packages/sklearn/linear_model/_logistic.py\", line 1461, in fit\n",
            "    solver = _check_solver(self.solver, self.penalty, self.dual)\n",
            "  File \"/usr/local/lib/python3.7/dist-packages/sklearn/linear_model/_logistic.py\", line 449, in _check_solver\n",
            "    % (solver, penalty)\n",
            "ValueError: Solver newton-cg supports only 'l2' or 'none' penalties, got elasticnet penalty.\n",
            "\n",
            "  warnings.warn(some_fits_failed_message, FitFailedWarning)\n",
            "/usr/local/lib/python3.7/dist-packages/sklearn/model_selection/_search.py:972: UserWarning: One or more of the test scores are non-finite: [0.59120386        nan        nan 0.59209024 0.65163693        nan\n",
            "        nan        nan        nan 0.5740884         nan        nan\n",
            " 0.5841932  0.65163693        nan        nan        nan        nan\n",
            " 0.54222777        nan        nan 0.61887417 0.65163693        nan\n",
            "        nan        nan        nan 0.54779215        nan        nan\n",
            " 0.59143694 0.65163693        nan        nan        nan        nan]\n",
            "  category=UserWarning,\n"
          ]
        },
        {
          "output_type": "stream",
          "name": "stdout",
          "text": [
            "0.6516369251751105 0.6462588478706429\n"
          ]
        }
      ],
      "source": [
        "cv = StratifiedKFold(n_splits=6)\n",
        "pipe4 = Pipeline([('scaler', MinMaxScaler()),\n",
        "                ('classifier', LogisticRegression())\n",
        "                ])\n",
        "params4 = {\n",
        "    'classifier__class_weight': [\"balanced\"],\n",
        "    'classifier__solver': ['saga', 'newton-cg','lfbgs'],\n",
        "    'classifier__max_iter': [50, 100, 150,500],\n",
        "    'classifier__multi_class': ['auto'],\n",
        "    'classifier__penalty': ['l1', 'l2','elasticnet']\n",
        "}\n",
        "gridsearch4 = GridSearchCV(pipe4, params4, verbose=0, cv=cv,\n",
        "                          scoring='balanced_accuracy', n_jobs=10).fit(X_train2, y_train2)\n",
        "print(gridsearch4.best_score_, gridsearch4.score(X_test2, y_test2))\n"
      ]
    },
    {
      "cell_type": "code",
      "execution_count": null,
      "metadata": {
        "id": "wV6GPoNS_0zC"
      },
      "outputs": [],
      "source": [
        "df_test['Pred4']= gridsearch4.predict_proba(Testset)[:,1]"
      ]
    },
    {
      "cell_type": "code",
      "execution_count": null,
      "metadata": {
        "id": "RG7CAZdz4qbO"
      },
      "outputs": [],
      "source": [
        "pred4 = gridsearch4.predict(X_test2)\n",
        "cm4 = confusion_matrix(y_test2, pred4)\n",
        "dd4 = [np.sum(cm4[0, :]), np.sum(cm4[1, :])]\n",
        "\n",
        "ax = sns.heatmap([cm4[0,:]/dd4[0], cm4[1,:]/dd4[1]],annot=True,\n",
        "                 fmt='.2%', cmap='Blues')\n",
        "\n",
        "ax.set_title('Seaborn Confusion Matrix with labels\\n\\n')\n",
        "ax.set_xlabel('\\nPredicted Values')\n",
        "ax.set_ylabel('Actual Values ')\n",
        "\n",
        "## Ticket labels - List must be in alphabetical order\n",
        "ax.xaxis.set_ticklabels(['False', 'True'])\n",
        "ax.yaxis.set_ticklabels(['False', 'True'])"
      ]
    },
    {
      "cell_type": "code",
      "execution_count": null,
      "metadata": {
        "id": "HuBdSPZ34qbP"
      },
      "outputs": [],
      "source": [
        "cv = StratifiedKFold(n_splits=6, random_state=23)\n",
        "pipeSVM2 = Pipeline([('scaler', StandardScaler()),\n",
        "                ('classifier', LinearSVC(random_state=23))\n",
        "                 ])\n",
        "params3 = {\n",
        "    \"classifier__class_weight\": [\"balanced\"],\n",
        "    \"classifier__max_depth\": np.arange(1, 9),\n",
        "    \"classifier__n_estimators\": [50, 150, 250],\n",
        "    \"classifier__max_features\": [None, \"log2\"]\n",
        "}\n",
        "gridsearchSVM2 = GridSearchCV(pipeSVM2, params3, verbose=0, cv=cv,\n",
        "                          scoring='balanced_accuracy', n_jobs=10).fit(X_train2, y_train2)\n",
        "print(gridsearchSVM2.best_score_, gridsearchSVM2.score(X_test2, y_test2))\n"
      ]
    },
    {
      "cell_type": "code",
      "execution_count": null,
      "metadata": {
        "id": "_3qJIcDQ_4uq"
      },
      "outputs": [],
      "source": [
        "df_test['Svm2'] = gridsearchSVM2.predict_proba(Testset)[:,1]"
      ]
    },
    {
      "cell_type": "code",
      "execution_count": null,
      "metadata": {
        "id": "8Fjtqd6u4qbP"
      },
      "outputs": [],
      "source": [
        "predSVM2 = gridsearchSVM2.predict(X_test2)\n",
        "cmSVM2 = confusion_matrix(y_test2, predSVM2)\n",
        "ddSVM2 = [np.sum(cmSVM2[0, :]), np.sum(cmSVM2[1, :])]\n",
        "\n",
        "ax = sns.heatmap([cmSVM2[0,:]/ddSVM2[0], cmSVM2[1,:]/ddSVM2[1]],annot=True,\n",
        "                 fmt='.2%', cmap='Blues')\n",
        "\n",
        "ax.set_title('Seaborn Confusion Matrix with labels\\n\\n')\n",
        "ax.set_xlabel('\\nPredicted Values')\n",
        "ax.set_ylabel('Actual Values ')\n",
        "\n",
        "## Ticket labels - List must be in alphabetical order\n",
        "ax.xaxis.set_ticklabels(['False', 'True'])\n",
        "ax.yaxis.set_ticklabels(['False', 'True'])"
      ]
    },
    {
      "cell_type": "code",
      "execution_count": null,
      "metadata": {
        "id": "8EA9yO0K4qbP"
      },
      "outputs": [],
      "source": [
        "Results_1 = df_test[['client_id','Pred1']]\n",
        "Results_2 = df_test[['client_id','Pred2']]\n",
        "Results_svm1 = df_test[['client_id','SVM1']]\n",
        "Results_3 = df_test[['client_id','Pred3']]\n",
        "Results_4 = df_test[['client_id','Pred4']]\n",
        "Results_svm2 = df_test[['client_id','SVM2']]"
      ]
    },
    {
      "cell_type": "code",
      "execution_count": null,
      "metadata": {
        "id": "pfm4Tn4SBwwu"
      },
      "outputs": [],
      "source": [
        "Results_1.to_csv(\"pred1.csv\",index=False)\n",
        "Results_2.to_csv(\"pred2.csv\",index=False)\n",
        "Results_svm1.to_csv(\"pred_svm1.csv\",index=False)\n",
        "Results_3.to_csv(\"pred3.csv\",index=False)\n",
        "Results_4.to_csv(\"pred4.csv\",index=False)\n",
        "Results_svm2.to_csv(\"pred_svm2.csv\",index=False)"
      ]
    }
  ],
  "metadata": {
    "colab": {
      "collapsed_sections": [],
      "name": "Models.ipynb",
      "provenance": [],
      "toc_visible": true
    },
    "interpreter": {
      "hash": "73f3fa6c493f46114b976b120fe3d1d5f78501f3bb4d6db470f23b212bc10b6f"
    },
    "kernelspec": {
      "display_name": "Python 3.8.5 ('base')",
      "language": "python",
      "name": "python3"
    },
    "language_info": {
      "codemirror_mode": {
        "name": "ipython",
        "version": 3
      },
      "file_extension": ".py",
      "mimetype": "text/x-python",
      "name": "python",
      "nbconvert_exporter": "python",
      "pygments_lexer": "ipython3",
      "version": "3.8.5"
    }
  },
  "nbformat": 4,
  "nbformat_minor": 0
}